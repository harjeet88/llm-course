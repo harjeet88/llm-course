{
  "nbformat": 4,
  "nbformat_minor": 0,
  "metadata": {
    "colab": {
      "provenance": [],
      "mount_file_id": "https://github.com/harjeet88/llm-course/blob/main/empty_notebook.ipynb",
      "authorship_tag": "ABX9TyPdYGCQTRcQkQPQhlh9uNWD",
      "include_colab_link": true
    },
    "kernelspec": {
      "name": "python3",
      "display_name": "Python 3"
    },
    "language_info": {
      "name": "python"
    }
  },
  "cells": [
    {
      "cell_type": "markdown",
      "metadata": {
        "id": "view-in-github",
        "colab_type": "text"
      },
      "source": [
        "<a href=\"https://colab.research.google.com/github/harjeet88/llm-course/blob/main/google_ai_sdk_starter.ipynb\" target=\"_parent\"><img src=\"https://colab.research.google.com/assets/colab-badge.svg\" alt=\"Open In Colab\"/></a>"
      ]
    },
    {
      "cell_type": "code",
      "source": [
        "# Step 1: Install the Google Generative AI SDK\n",
        "!pip install -q -U google-generativeai"
      ],
      "metadata": {
        "id": "ZZmOBXNFKRwm"
      },
      "execution_count": 2,
      "outputs": []
    },
    {
      "cell_type": "code",
      "source": [
        "# Step 2: Import libraries\n",
        "import google.generativeai as genai\n",
        "from IPython.display import display, Markdown"
      ],
      "metadata": {
        "id": "A0aQlfNRKa_L"
      },
      "execution_count": 3,
      "outputs": []
    },
    {
      "cell_type": "code",
      "execution_count": 11,
      "metadata": {
        "id": "WxkB_NqnJfBa"
      },
      "outputs": [],
      "source": [
        "# Step 3\n",
        "from google.colab import userdata\n",
        "#OPENAI_API_KEY=userdata.get('OPENAI_API_KEY')\n",
        "GOOGLE_API_KEY=userdata.get('GOOGLE_API_KEY')\n",
        "GEMINI_API_KEY=GOOGLE_API_KEY\n",
        "genai.configure(api_key=GOOGLE_API_KEY)\n",
        "gemini_model='gemini-2.5-flash'"
      ]
    },
    {
      "cell_type": "code",
      "source": [
        "# Step 4: Initialize the model (using Gemini 1.5 Pro)\n",
        "model = genai.GenerativeModel(gemini_model)"
      ],
      "metadata": {
        "id": "pIB4Syqu24ZV"
      },
      "execution_count": 12,
      "outputs": []
    },
    {
      "cell_type": "code",
      "source": [
        "# Step 5: Generate content\n",
        "response = model.generate_content(\"Explain quantum computing in simple terms\")"
      ],
      "metadata": {
        "id": "WFxWr2DxKg5C"
      },
      "execution_count": 13,
      "outputs": []
    },
    {
      "cell_type": "code",
      "source": [
        "display(Markdown(response.text))"
      ],
      "metadata": {
        "colab": {
          "base_uri": "https://localhost:8080/",
          "height": 614
        },
        "id": "vodiKLXWLAHH",
        "outputId": "7026fbb0-2435-464f-a955-7cfe0c90398d"
      },
      "execution_count": 14,
      "outputs": [
        {
          "output_type": "display_data",
          "data": {
            "text/plain": [
              "<IPython.core.display.Markdown object>"
            ],
            "text/markdown": "Imagine you have a **regular computer**. It's like a light switch. Each tiny piece of information, called a **bit**, can be either **ON (1)** or **OFF (0)**. It processes information one step at a time, making a lot of calculations very quickly.\n\nNow, imagine a **quantum computer**. It's like a *dimmer switch*, but a super magical one. Its basic unit of information is called a **qubit**. Here's why it's different and powerful:\n\n1.  **Superposition (Being ON and OFF at the same time!):**\n    A qubit can be 0, 1, or *both 0 and 1 at the same time* (in a kind of probabilistic blend). Think of a spinning coin: it's neither heads nor tails until it lands. A qubit is like that spinning coin. This means it can hold much more information than a regular bit. If you have just a few qubits, they can represent many different possibilities simultaneously.\n\n2.  **Entanglement (Spooky Connection):**\n    Two or more qubits can become linked, or \"entangled.\" This means their fates are tied together, no matter how far apart they are. If you measure one entangled qubit and it turns out to be 0, you instantly know what the other entangled qubit is (e.g., it must be 1). This allows quantum computers to perform incredibly complex calculations by having qubits work together in a highly coordinated way.\n\n3.  **Interference (Finding the Right Answer):**\n    Quantum computers use the \"wave-like\" nature of quantum particles. They can essentially \"amplify\" the correct answers and \"cancel out\" the incorrect ones through a process called interference. It's like sending out many waves, where the \"right answer\" waves get bigger, and the \"wrong answer\" waves cancel each other out. When you finally \"look\" (measure) the qubits, the probability of them landing on the correct answer is much higher.\n\n**So, how does it work in simple terms?**\n\nInstead of trying one solution at a time like a regular computer, a quantum computer, thanks to superposition and entanglement, can explore *many possible solutions simultaneously*. It's like having a library where you can read every book at once, filter out the noise, and only find the specific book you need instantly.\n\n**What's it good for?**\n\nIt's not about browsing the internet faster or playing video games. Quantum computers are designed to solve very specific, incredibly complex problems that are impossible for even the most powerful traditional supercomputers:\n\n*   **Drug Discovery & Materials Science:** Simulating molecules to find new medicines or design new materials (like super-efficient batteries). Molecules are inherently quantum, so simulating them requires quantum behavior.\n*   **Cryptography:** Breaking current encryption methods and creating new, unbreakable ones.\n*   **Optimization:** Finding the absolute best solution from an enormous number of possibilities (e.g., optimizing logistics, financial modeling).\n*   **Artificial Intelligence:** Enhancing machine learning algorithms.\n\n**In essence:**\n\nQuantum computing uses the weird and wonderful rules of the quantum world (like particles existing in multiple states at once and being mysteriously connected) to solve certain problems *impossibly fast* compared to traditional computers, by exploring many possibilities at the same time. It's still a very early technology, but holds immense promise for the future."
          },
          "metadata": {}
        }
      ]
    },
    {
      "cell_type": "code",
      "source": [],
      "metadata": {
        "id": "BXuvSiy01kzo"
      },
      "execution_count": null,
      "outputs": []
    }
  ]
}