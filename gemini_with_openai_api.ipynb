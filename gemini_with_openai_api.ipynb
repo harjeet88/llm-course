{
  "nbformat": 4,
  "nbformat_minor": 0,
  "metadata": {
    "colab": {
      "provenance": [],
      "mount_file_id": "https://github.com/harjeet88/llm-course/blob/main/empty_notebook.ipynb",
      "authorship_tag": "ABX9TyPvQ4DjNQMttsDMzD0QKPaE",
      "include_colab_link": true
    },
    "kernelspec": {
      "name": "python3",
      "display_name": "Python 3"
    },
    "language_info": {
      "name": "python"
    }
  },
  "cells": [
    {
      "cell_type": "markdown",
      "metadata": {
        "id": "view-in-github",
        "colab_type": "text"
      },
      "source": [
        "<a href=\"https://colab.research.google.com/github/harjeet88/llm-course/blob/main/gemini_with_openai_api.ipynb\" target=\"_parent\"><img src=\"https://colab.research.google.com/assets/colab-badge.svg\" alt=\"Open In Colab\"/></a>"
      ]
    },
    {
      "cell_type": "code",
      "source": [
        "# Step 1: Install the Google Generative AI SDK\n",
        "!pip install -q openai google-generativeai"
      ],
      "metadata": {
        "id": "ZZmOBXNFKRwm"
      },
      "execution_count": 15,
      "outputs": []
    },
    {
      "cell_type": "code",
      "source": [
        "# Step 2: Import libraries\n",
        "import os\n",
        "import openai\n",
        "from openai import OpenAI\n",
        "from google.colab import userdata\n",
        "#import google.generativeai as genai\n",
        "from IPython.display import display, Markdown"
      ],
      "metadata": {
        "id": "A0aQlfNRKa_L"
      },
      "execution_count": 26,
      "outputs": []
    },
    {
      "cell_type": "code",
      "execution_count": 32,
      "metadata": {
        "id": "WxkB_NqnJfBa"
      },
      "outputs": [],
      "source": [
        "# Step 3\n",
        "GOOGLE_API_KEY=userdata.get('GOOGLE_API_KEY')\n",
        "GEMINI_API_KEY=GOOGLE_API_KEY\n",
        "gemini_model='gemini-2.5-flash'\n",
        "gemini_api_endpoint=\"https://generativelanguage.googleapis.com/v1beta/openai/\""
      ]
    },
    {
      "cell_type": "code",
      "source": [
        "# Step 4: Initialize the model (using Gemini flash)\n",
        "# Configure OpenAI client to use Google's Gemini endpoint\n",
        "gemini = OpenAI(api_key=GOOGLE_API_KEY, base_url=gemini_api_endpoint)"
      ],
      "metadata": {
        "id": "pIB4Syqu24ZV"
      },
      "execution_count": 33,
      "outputs": []
    },
    {
      "cell_type": "code",
      "source": [
        "prompt=\"Explain quantum entanglement in simple terms\""
      ],
      "metadata": {
        "id": "jTp_GFT45VXJ"
      },
      "execution_count": 34,
      "outputs": []
    },
    {
      "cell_type": "code",
      "source": [
        "# Create a chat completion request (Gemini flash)\n",
        "response = gemini.chat.completions.create(\n",
        "    model=gemini_model,  # Specify Gemini model\n",
        "    messages=[\n",
        "        {\"role\": \"user\", \"content\": prompt}\n",
        "    ],\n",
        "    stream=False,  # Set to True for streaming\n",
        "    temperature=0.7,\n",
        "    max_tokens=2048\n",
        ")"
      ],
      "metadata": {
        "id": "WFxWr2DxKg5C"
      },
      "execution_count": 35,
      "outputs": []
    },
    {
      "cell_type": "code",
      "source": [
        "display(Markdown(response.choices[0].message.content))"
      ],
      "metadata": {
        "colab": {
          "base_uri": "https://localhost:8080/",
          "height": 392
        },
        "id": "vodiKLXWLAHH",
        "outputId": "bf215767-94e7-4026-8d58-b7b837804d19"
      },
      "execution_count": 36,
      "outputs": [
        {
          "output_type": "display_data",
          "data": {
            "text/plain": [
              "<IPython.core.display.Markdown object>"
            ],
            "text/markdown": "Imagine you have two **mystery boxes**, and inside each is a ball. The ball can be either **red** or **blue**.\n\nHere's the catch: You know for sure that if one box has a red ball, the other *must* have a blue ball, and vice-versa. But you don't know *which is which* until you open one.\n\nNow, you send one box to a friend on **Mars**.\n\nYou open your box here on Earth and find a **red** ball. Instantly, at that very moment, you *know* the ball in your friend's box on Mars is **blue**.\n\n---\n\n**That's the essence of quantum entanglement:**\n\n1.  **Two (or more) particles are linked:** Like our mystery boxes, two tiny particles (like electrons or photons) become connected.\n2.  **Their properties are uncertain until measured:** Before you open a box, the ball isn't definitively red or blue. Similarly, before you measure an entangled particle's property (like its \"spin\" or \"polarization\"), that property is in a \"fuzzy\" or \"uncertain\" state – it's both possibilities at once (this is called **superposition**).\n3.  **Measuring one instantly affects the other:** The moment you measure one particle's property (e.g., you find its spin is \"up\"), the other entangled particle *instantly* takes on the corresponding, linked property (e.g., its spin becomes \"down\"), no matter how far apart they are.\n\n**Key Points to Understand:**\n\n*   **Not Faster-Than-Light Communication:** This is crucial. You can't use entanglement to send messages faster than light. You still need to call your friend on Mars to tell them what color you found in your box to confirm the state of theirs. The correlation is instantaneous, but you can't *control* what color your ball will be when you open it, so you can't use it to transmit information.\n*   **Shared Destiny:** Think of it as two coins that are magically linked. Until you flip"
          },
          "metadata": {}
        }
      ]
    },
    {
      "cell_type": "code",
      "source": [],
      "metadata": {
        "id": "BXuvSiy01kzo"
      },
      "execution_count": null,
      "outputs": []
    }
  ]
}