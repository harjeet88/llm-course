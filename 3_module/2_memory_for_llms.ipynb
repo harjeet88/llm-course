{
  "nbformat": 4,
  "nbformat_minor": 0,
  "metadata": {
    "colab": {
      "provenance": [],
      "mount_file_id": "https://github.com/harjeet88/llm-course/blob/main/empty_notebook.ipynb",
      "authorship_tag": "ABX9TyNRqIRl1+JEJ+YvB0weH00y",
      "include_colab_link": true
    },
    "kernelspec": {
      "name": "python3",
      "display_name": "Python 3"
    },
    "language_info": {
      "name": "python"
    }
  },
  "cells": [
    {
      "cell_type": "markdown",
      "metadata": {
        "id": "view-in-github",
        "colab_type": "text"
      },
      "source": [
        "<a href=\"https://colab.research.google.com/github/harjeet88/llm-course/blob/main/3_module/2_memory_for_llms.ipynb\" target=\"_parent\"><img src=\"https://colab.research.google.com/assets/colab-badge.svg\" alt=\"Open In Colab\"/></a>"
      ]
    },
    {
      "cell_type": "code",
      "source": [
        "# Step 1: Install the Google Generative AI SDK\n",
        "!pip install -q openai google-generativeai"
      ],
      "metadata": {
        "id": "ZZmOBXNFKRwm"
      },
      "execution_count": 15,
      "outputs": []
    },
    {
      "cell_type": "code",
      "source": [
        "# Step 2: Import libraries\n",
        "import os\n",
        "import openai\n",
        "from openai import OpenAI\n",
        "from google.colab import userdata\n",
        "#import google.generativeai as genai\n",
        "from IPython.display import display, Markdown"
      ],
      "metadata": {
        "id": "A0aQlfNRKa_L"
      },
      "execution_count": 26,
      "outputs": []
    },
    {
      "cell_type": "code",
      "execution_count": 32,
      "metadata": {
        "id": "WxkB_NqnJfBa"
      },
      "outputs": [],
      "source": [
        "# Step 3\n",
        "GOOGLE_API_KEY=userdata.get('GOOGLE_API_KEY')\n",
        "GEMINI_API_KEY=GOOGLE_API_KEY\n",
        "gemini_model='gemini-2.5-flash'\n",
        "gemini_api_endpoint=\"https://generativelanguage.googleapis.com/v1beta/openai/\""
      ]
    },
    {
      "cell_type": "code",
      "source": [
        "# Step 4: Initialize the model (using Gemini flash)\n",
        "# Configure OpenAI client to use Google's Gemini endpoint\n",
        "gemini = OpenAI(api_key=GOOGLE_API_KEY, base_url=gemini_api_endpoint)"
      ],
      "metadata": {
        "id": "pIB4Syqu24ZV"
      },
      "execution_count": 33,
      "outputs": []
    },
    {
      "cell_type": "code",
      "source": [
        "system=\"You are a helpful tutor\""
      ],
      "metadata": {
        "id": "HDkkEThMAtSP"
      },
      "execution_count": 41,
      "outputs": []
    },
    {
      "cell_type": "code",
      "source": [
        "prompt=\"Explain quantum entanglement in simple terms\""
      ],
      "metadata": {
        "id": "jTp_GFT45VXJ"
      },
      "execution_count": 42,
      "outputs": []
    },
    {
      "cell_type": "code",
      "source": [
        "conversation_history = []"
      ],
      "metadata": {
        "id": "bvCsB4F5C6N_"
      },
      "execution_count": 63,
      "outputs": []
    },
    {
      "cell_type": "code",
      "source": [
        "def chat(message):\n",
        "    # Add user message to history\n",
        "    conversation_history.append({\"role\": \"user\", \"content\": message})\n",
        "\n",
        "    response = gemini.chat.completions.create(\n",
        "        model=gemini_model,\n",
        "        messages=[\n",
        "            {\"role\": \"system\", \"content\": system},\n",
        "            *conversation_history  # Unpack history\n",
        "        ]\n",
        "    )\n",
        "\n",
        "    # Get AI reply and add to history\n",
        "    reply = response.choices[0].message.content\n",
        "    conversation_history.append({\"role\": \"assistant\", \"content\": reply})\n",
        "    return reply"
      ],
      "metadata": {
        "id": "guwaY3sqBm9k"
      },
      "execution_count": 64,
      "outputs": []
    },
    {
      "cell_type": "code",
      "source": [
        "# Test conversation\n",
        "Markdown(print(chat(\"Hello!\")))"
      ],
      "metadata": {
        "id": "XG9tlJnPDSlI",
        "outputId": "2deb6e35-b0ea-48cc-8f6c-84fda943324f",
        "colab": {
          "base_uri": "https://localhost:8080/"
        }
      },
      "execution_count": 67,
      "outputs": [
        {
          "output_type": "stream",
          "name": "stdout",
          "text": [
            "Hello again! How can I help you today? Is there anything else you'd like to know about photosynthesis, or would you like to explore a different topic? I'm here to assist!\n"
          ]
        },
        {
          "output_type": "execute_result",
          "data": {
            "text/plain": [
              "<IPython.core.display.Markdown object>"
            ]
          },
          "metadata": {},
          "execution_count": 67
        }
      ]
    },
    {
      "cell_type": "code",
      "source": [
        "Markdown(print(chat(\"Teach me about photosynthesis\")))"
      ],
      "metadata": {
        "colab": {
          "base_uri": "https://localhost:8080/"
        },
        "id": "BXuvSiy01kzo",
        "outputId": "e0978c1a-5018-4f16-d2a1-480a68549055"
      },
      "execution_count": 68,
      "outputs": [
        {
          "output_type": "stream",
          "name": "stdout",
          "text": [
            "Hello again! It seems like you're really interested in photosynthesis, which is great – it's a truly vital process!\n",
            "\n",
            "I've already given you a pretty comprehensive overview. Would you like me to:\n",
            "\n",
            "1.  **Give you a simpler, more concise summary?**\n",
            "2.  **Explain a specific part in more detail** (e.g., how light is absorbed, what happens to the glucose, the role of water, the two main stages)?\n",
            "3.  **Focus on its importance to life on Earth?**\n",
            "4.  **Answer any specific questions you might have about it?**\n",
            "\n",
            "Let me know how you'd like to approach it this time!\n"
          ]
        },
        {
          "output_type": "execute_result",
          "data": {
            "text/plain": [
              "<IPython.core.display.Markdown object>"
            ]
          },
          "metadata": {},
          "execution_count": 68
        }
      ]
    },
    {
      "cell_type": "code",
      "source": [
        "Markdown(print(chat(\"Explain the first step again\")))  # Shows memory!"
      ],
      "metadata": {
        "id": "aCovAIGGEOpF",
        "outputId": "c9b76a3f-c65f-4308-af51-f282ec18e8b9",
        "colab": {
          "base_uri": "https://localhost:8080/"
        }
      },
      "execution_count": 69,
      "outputs": [
        {
          "output_type": "stream",
          "name": "stdout",
          "text": [
            "Okay, let's zoom in on the very first crucial step: the **Light-Dependent Reactions**. This is where the magic of capturing sunlight truly begins!\n",
            "\n",
            "Think of it like this: If photosynthesis is a factory making food, the Light-Dependent Reactions are the **power generator** and **initial raw material processing plant**.\n",
            "\n",
            "### The First Step: Light-Dependent Reactions\n",
            "\n",
            "**1. Where it happens:**\n",
            "    *   Inside the plant cell, specifically within the **chloroplasts**.\n",
            "    *   Even more specifically, within the stacks of disc-like structures inside chloroplasts called **thylakoids**. These thylakoids have membranes where all the machinery for this step is located.\n",
            "\n",
            "**2. The Key Ingredient & Tool:**\n",
            "    *   **Light Energy (from the Sun):** This is the ultimate fuel.\n",
            "    *   **Chlorophyll:** This is the special green pigment (the \"solar panel\") embedded in the thylakoid membranes. Its job is to efficiently *absorb* specific wavelengths of light energy. When chlorophyll absorbs light, its electrons get excited, jumping to a higher energy level.\n",
            "\n",
            "**3. What Happens (The Process):**\n",
            "    *   **Light Absorption:** Chlorophyll molecules capture photons (packets of light energy).\n",
            "    *   **Energy Transfer & Electron Flow:** The absorbed light energy excites electrons within the chlorophyll. These excited electrons are then passed along a series of protein complexes (like a microscopic \"electron transport chain\"). As the electrons move, their energy is used.\n",
            "    *   **Water Splitting (Photolysis):** This is super important! To replace the electrons that left chlorophyll, and to power parts of the electron transport chain, water molecules (H₂O) are split apart.\n",
            "        *   When water splits, it releases:\n",
            "            *   **Electrons:** These replace the ones lost by chlorophyll.\n",
            "            *   **Protons (H⁺ ions):** These build up a concentration gradient that will be used to make ATP.\n",
            "            *   **Oxygen (O₂):** This is a *waste product* for the plant, and it's released into the atmosphere – luckily for us, as it's what we breathe!\n",
            "\n",
            "**4. What it Produces (The Outputs):**\n",
            "    *   **Oxygen (O₂):** As mentioned, released into the atmosphere.\n",
            "    *   **ATP (Adenosine Triphosphate):** This is like the immediate \"energy currency\" of the cell. Think of it as a charged battery. It's produced when the flow of protons (from water splitting) powers an enzyme called ATP synthase.\n",
            "    *   **NADPH (Nicotinamide Adenine Dinucleotide Phosphate):** This is another energy-carrying molecule, specifically an \"electron carrier.\" Think of it as a shuttle bus carrying high-energy electrons (and protons).\n",
            "\n",
            "**In a Nutshell for the Light-Dependent Reactions:**\n",
            "\n",
            "Sunlight hits the chlorophyll in the thylakoids. This energy is used to split water, release oxygen, and create two crucial energy-carrying molecules: **ATP** and **NADPH**.\n",
            "\n",
            "These two molecules (ATP and NADPH) are the entire point of the first step. They don't store the plant's food directly, but they are the *energy* and *reducing power* needed for the second step, the Light-Independent Reactions (Calvin Cycle), where the actual sugar is built.\n",
            "\n",
            "Does that breakdown of the first step make more sense?\n"
          ]
        },
        {
          "output_type": "execute_result",
          "data": {
            "text/plain": [
              "<IPython.core.display.Markdown object>"
            ]
          },
          "metadata": {},
          "execution_count": 69
        }
      ]
    },
    {
      "cell_type": "code",
      "source": [],
      "metadata": {
        "id": "JZcLoivtEgGL"
      },
      "execution_count": null,
      "outputs": []
    }
  ]
}