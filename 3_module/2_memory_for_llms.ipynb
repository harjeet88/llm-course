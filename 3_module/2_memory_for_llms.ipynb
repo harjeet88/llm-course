{
  "nbformat": 4,
  "nbformat_minor": 0,
  "metadata": {
    "colab": {
      "provenance": [],
      "mount_file_id": "https://github.com/harjeet88/llm-course/blob/main/empty_notebook.ipynb",
      "authorship_tag": "ABX9TyMyYAA+lsBUpKgtEU/bU9uK",
      "include_colab_link": true
    },
    "kernelspec": {
      "name": "python3",
      "display_name": "Python 3"
    },
    "language_info": {
      "name": "python"
    }
  },
  "cells": [
    {
      "cell_type": "markdown",
      "metadata": {
        "id": "view-in-github",
        "colab_type": "text"
      },
      "source": [
        "<a href=\"https://colab.research.google.com/github/harjeet88/llm-course/blob/main/3_module/2_memory_for_llms.ipynb\" target=\"_parent\"><img src=\"https://colab.research.google.com/assets/colab-badge.svg\" alt=\"Open In Colab\"/></a>"
      ]
    },
    {
      "cell_type": "code",
      "source": [
        "# Step 1: Install the Google Generative AI SDK\n",
        "!pip install -q openai google-generativeai"
      ],
      "metadata": {
        "id": "ZZmOBXNFKRwm"
      },
      "execution_count": 15,
      "outputs": []
    },
    {
      "cell_type": "code",
      "source": [
        "# Step 2: Import libraries\n",
        "import os\n",
        "import openai\n",
        "from openai import OpenAI\n",
        "from google.colab import userdata\n",
        "#import google.generativeai as genai\n",
        "from IPython.display import display, Markdown"
      ],
      "metadata": {
        "id": "A0aQlfNRKa_L"
      },
      "execution_count": 26,
      "outputs": []
    },
    {
      "cell_type": "code",
      "execution_count": 32,
      "metadata": {
        "id": "WxkB_NqnJfBa"
      },
      "outputs": [],
      "source": [
        "# Step 3\n",
        "GOOGLE_API_KEY=userdata.get('GOOGLE_API_KEY')\n",
        "GEMINI_API_KEY=GOOGLE_API_KEY\n",
        "gemini_model='gemini-2.5-flash'\n",
        "gemini_api_endpoint=\"https://generativelanguage.googleapis.com/v1beta/openai/\""
      ]
    },
    {
      "cell_type": "code",
      "source": [
        "# Step 4: Initialize the model (using Gemini flash)\n",
        "# Configure OpenAI client to use Google's Gemini endpoint\n",
        "gemini = OpenAI(api_key=GOOGLE_API_KEY, base_url=gemini_api_endpoint)"
      ],
      "metadata": {
        "id": "pIB4Syqu24ZV"
      },
      "execution_count": 33,
      "outputs": []
    },
    {
      "cell_type": "code",
      "source": [
        "system=\"You are a helpful tutor\""
      ],
      "metadata": {
        "id": "HDkkEThMAtSP"
      },
      "execution_count": 41,
      "outputs": []
    },
    {
      "cell_type": "code",
      "source": [
        "prompt=\"Explain quantum entanglement in simple terms\""
      ],
      "metadata": {
        "id": "jTp_GFT45VXJ"
      },
      "execution_count": 42,
      "outputs": []
    },
    {
      "cell_type": "code",
      "source": [
        "def chat(message):\n",
        "    # Add user message to history\n",
        "    conversation_history.append({\"role\": \"user\", \"content\": message})\n",
        "\n",
        "    response = gemini.chat.completions.create(\n",
        "        model=gemini_model,\n",
        "        messages=[\n",
        "            {\"role\": \"system\", \"content\": system},\n",
        "            {\"role\": \"user\", \"content\": message},\n",
        "\n",
        "        ]\n",
        "    )\n",
        "    # Get AI reply and add to history\n",
        "    reply = response.choices[0].message.content\n",
        "    return reply\n",
        ""
      ],
      "metadata": {
        "id": "Xw2um3d6M9w-"
      },
      "execution_count": 76,
      "outputs": []
    },
    {
      "cell_type": "code",
      "source": [
        "Markdown(print(chat(\"Hello!\")))"
      ],
      "metadata": {
        "id": "wx36dYa1NjzM",
        "outputId": "31b363bf-72f6-42a5-8755-7c9cf9ab6416",
        "colab": {
          "base_uri": "https://localhost:8080/"
        }
      },
      "execution_count": 77,
      "outputs": [
        {
          "output_type": "stream",
          "name": "stdout",
          "text": [
            "Hello there! How can I help you today?\n"
          ]
        },
        {
          "output_type": "execute_result",
          "data": {
            "text/plain": [
              "<IPython.core.display.Markdown object>"
            ]
          },
          "metadata": {},
          "execution_count": 77
        }
      ]
    },
    {
      "cell_type": "code",
      "source": [
        "Markdown(print(chat(\"Teach me about photosynthesis\")))"
      ],
      "metadata": {
        "id": "vJ2P5K9PNLAK",
        "outputId": "190c02ee-0883-4fed-a0df-0cb232613406",
        "colab": {
          "base_uri": "https://localhost:8080/"
        }
      },
      "execution_count": 78,
      "outputs": [
        {
          "output_type": "stream",
          "name": "stdout",
          "text": [
            "Okay, let's learn about photosynthesis! It's one of the most fundamental and amazing processes on Earth.\n",
            "\n",
            "**What is Photosynthesis? (The Simple Definition)**\n",
            "\n",
            "At its heart, photosynthesis is how **plants (and some other organisms like algae and certain bacteria) convert light energy into chemical energy (food).**\n",
            "\n",
            "Think of it like this: Plants are natural chefs that use sunlight, water, and air to cook up their own sugary meals!\n",
            "\n",
            "---\n",
            "\n",
            "**Why is Photosynthesis So Important?**\n",
            "\n",
            "1.  **It's the Basis of Almost All Life:** Plants are at the bottom of nearly every food chain. Animals eat plants, and other animals eat those animals. Without photosynthesis, there would be no food for most living things.\n",
            "2.  **It Produces the Oxygen We Breathe:** As a \"waste\" product of photosynthesis, plants release oxygen into the atmosphere. Every breath you take is thanks to photosynthesis!\n",
            "3.  **It Removes Carbon Dioxide:** Plants take in carbon dioxide from the air, which helps regulate Earth's climate and prevents too much of this greenhouse gas from building up.\n",
            "\n",
            "---\n",
            "\n",
            "**The \"Ingredients\" (Inputs) of Photosynthesis:**\n",
            "\n",
            "Plants need three main things to perform photosynthesis:\n",
            "\n",
            "1.  **Sunlight:** This is the energy source. Plants capture light energy, usually from the sun.\n",
            "2.  **Water (H₂O):** Absorbed from the soil through the plant's roots.\n",
            "3.  **Carbon Dioxide (CO₂):** A gas absorbed from the air through tiny pores on the leaves called **stomata**.\n",
            "\n",
            "---\n",
            "\n",
            "**The \"Products\" (Outputs) of Photosynthesis:**\n",
            "\n",
            "When plants \"cook\" these ingredients, they produce two main things:\n",
            "\n",
            "1.  **Glucose (C₆H₁₂O₆):** This is a type of sugar, the plant's food. Plants use glucose for energy to grow, reproduce, and carry out all their life processes. They can also store it as starch.\n",
            "2.  **Oxygen (O₂):** This is released back into the atmosphere as a byproduct.\n",
            "\n",
            "---\n",
            "\n",
            "**The Overall Equation (Simplified):**\n",
            "\n",
            "**Sunlight + Carbon Dioxide + Water → Glucose (Sugar) + Oxygen**\n",
            "\n",
            "Or, using chemical formulas:\n",
            "\n",
            "**6CO₂ + 6H₂O + Light Energy → C₆H₁₂O₆ + 6O₂**\n",
            "\n",
            "---\n",
            "\n",
            "**Where Does Photosynthesis Happen? (The Plant's \"Kitchen\")**\n",
            "\n",
            "Photosynthesis primarily takes place in the **leaves** of plants, specifically within specialized structures inside plant cells called **chloroplasts**.\n",
            "\n",
            "*   **Chloroplasts:** These are like tiny green \"factories\" within the plant cells.\n",
            "*   **Chlorophyll:** Inside the chloroplasts is a green pigment called chlorophyll. This is what gives plants their green color, and it's also the molecule that's responsible for *absorbing* the light energy from the sun.\n",
            "\n",
            "---\n",
            "\n",
            "**How Does Photosynthesis Work? (The Two Main Stages)**\n",
            "\n",
            "Photosynthesis isn't one single step; it's a complex process divided into two main stages:\n",
            "\n",
            "**Stage 1: The Light-Dependent Reactions (The \"Energy Capture\" Phase)**\n",
            "\n",
            "*   **When:** These reactions **require light** to happen.\n",
            "*   **Where:** They occur in the **thylakoids** within the chloroplasts (these are like stacks of flattened sacs).\n",
            "*   **What happens:**\n",
            "    *   Chlorophyll absorbs light energy.\n",
            "    *   This energy is used to split water molecules (H₂O). When water is split, **oxygen (O₂)** is released as a gas.\n",
            "    *   The captured light energy is converted into chemical energy in the form of two temporary energy-carrying molecules: **ATP** and **NADPH**.\n",
            "*   **Purpose:** To capture light energy and convert it into a usable form (ATP and NADPH) for the next stage.\n",
            "\n",
            "**Stage 2: The Light-Independent Reactions (The \"Sugar-Making\" Phase) / The Calvin Cycle**\n",
            "\n",
            "*   **When:** These reactions **do not directly require light**, but they depend on the products (ATP and NADPH) from the light-dependent reactions. So, they typically happen immediately after the light reactions.\n",
            "*   **Where:** They occur in the **stroma** within the chloroplasts (the fluid-filled space surrounding the thylakoids).\n",
            "*   **What happens:**\n",
            "    *   The plant takes in **carbon dioxide (CO₂)** from the air.\n",
            "    *   Using the ATP and NADPH (the energy carriers) from Stage 1, the CO₂ molecules are converted into **glucose (sugar)**. This process is called carbon fixation.\n",
            "*   **Purpose:** To use the captured energy to build stable sugar molecules that the plant can use for food or store.\n",
            "\n",
            "---\n",
            "\n",
            "**In a Nutshell:**\n",
            "\n",
            "Imagine a plant as a solar-powered kitchen:\n",
            "\n",
            "1.  **Sunlight + Water** are used in the first part of the kitchen (light reactions) to generate power (ATP & NADPH) and release oxygen as a byproduct.\n",
            "2.  Then, that **power + carbon dioxide** are used in the second part of the kitchen (Calvin Cycle) to bake the final product: **sugar (glucose)**.\n",
            "\n",
            "And that's photosynthesis – the incredible process that sustains life on Earth!\n"
          ]
        },
        {
          "output_type": "execute_result",
          "data": {
            "text/plain": [
              "<IPython.core.display.Markdown object>"
            ]
          },
          "metadata": {},
          "execution_count": 78
        }
      ]
    },
    {
      "cell_type": "code",
      "source": [
        "Markdown(print(chat(\"Explain the first step again\")))  # Shows memory!"
      ],
      "metadata": {
        "id": "62r7Fj5aOD0F",
        "outputId": "204924c2-c009-48f3-e6c3-04c2cf3f7c44",
        "colab": {
          "base_uri": "https://localhost:8080/"
        }
      },
      "execution_count": 79,
      "outputs": [
        {
          "output_type": "stream",
          "name": "stdout",
          "text": [
            "Absolutely! I'd be happy to explain the first step again.\n",
            "\n",
            "To make sure I give you the most accurate and helpful explanation, could you please remind me:\n",
            "\n",
            "1.  **What specific process, topic, or set of instructions are you referring to?** (e.g., \"the first step for baking bread,\" \"the first step in setting up the software,\" \"the first step we discussed for problem-solving\").\n",
            "2.  **What do you remember about the task or goal we were discussing?**\n",
            "\n",
            "Once I have that context, I can re-explain it clearly, perhaps from a different angle or with more detail if that would be helpful!\n"
          ]
        },
        {
          "output_type": "execute_result",
          "data": {
            "text/plain": [
              "<IPython.core.display.Markdown object>"
            ]
          },
          "metadata": {},
          "execution_count": 79
        }
      ]
    },
    {
      "cell_type": "markdown",
      "source": [
        "#Building Memory"
      ],
      "metadata": {
        "id": "7iobWioEOMVY"
      }
    },
    {
      "cell_type": "code",
      "source": [
        "conversation_history = []"
      ],
      "metadata": {
        "id": "bvCsB4F5C6N_"
      },
      "execution_count": 63,
      "outputs": []
    },
    {
      "cell_type": "code",
      "source": [
        "def chat(message):\n",
        "    # Add user message to history\n",
        "    conversation_history.append({\"role\": \"user\", \"content\": message})\n",
        "\n",
        "    response = gemini.chat.completions.create(\n",
        "        model=gemini_model,\n",
        "        messages=[\n",
        "            {\"role\": \"system\", \"content\": system},\n",
        "            *conversation_history  # Unpack history\n",
        "        ]\n",
        "    )\n",
        "\n",
        "    # Get AI reply and add to history\n",
        "    reply = response.choices[0].message.content\n",
        "    conversation_history.append({\"role\": \"assistant\", \"content\": reply})\n",
        "    return reply"
      ],
      "metadata": {
        "id": "guwaY3sqBm9k"
      },
      "execution_count": 64,
      "outputs": []
    },
    {
      "cell_type": "code",
      "source": [
        "# Test conversation\n",
        "Markdown(print(chat(\"Hello!\")))"
      ],
      "metadata": {
        "colab": {
          "base_uri": "https://localhost:8080/"
        },
        "id": "XG9tlJnPDSlI",
        "outputId": "2deb6e35-b0ea-48cc-8f6c-84fda943324f"
      },
      "execution_count": 67,
      "outputs": [
        {
          "output_type": "stream",
          "name": "stdout",
          "text": [
            "Hello again! How can I help you today? Is there anything else you'd like to know about photosynthesis, or would you like to explore a different topic? I'm here to assist!\n"
          ]
        },
        {
          "output_type": "execute_result",
          "data": {
            "text/plain": [
              "<IPython.core.display.Markdown object>"
            ]
          },
          "metadata": {},
          "execution_count": 67
        }
      ]
    },
    {
      "cell_type": "code",
      "source": [
        "Markdown(print(chat(\"Teach me about photosynthesis\")))"
      ],
      "metadata": {
        "colab": {
          "base_uri": "https://localhost:8080/"
        },
        "id": "BXuvSiy01kzo",
        "outputId": "e0978c1a-5018-4f16-d2a1-480a68549055"
      },
      "execution_count": 68,
      "outputs": [
        {
          "output_type": "stream",
          "name": "stdout",
          "text": [
            "Hello again! It seems like you're really interested in photosynthesis, which is great – it's a truly vital process!\n",
            "\n",
            "I've already given you a pretty comprehensive overview. Would you like me to:\n",
            "\n",
            "1.  **Give you a simpler, more concise summary?**\n",
            "2.  **Explain a specific part in more detail** (e.g., how light is absorbed, what happens to the glucose, the role of water, the two main stages)?\n",
            "3.  **Focus on its importance to life on Earth?**\n",
            "4.  **Answer any specific questions you might have about it?**\n",
            "\n",
            "Let me know how you'd like to approach it this time!\n"
          ]
        },
        {
          "output_type": "execute_result",
          "data": {
            "text/plain": [
              "<IPython.core.display.Markdown object>"
            ]
          },
          "metadata": {},
          "execution_count": 68
        }
      ]
    },
    {
      "cell_type": "code",
      "source": [
        "Markdown(print(chat(\"Explain the first step again\")))  # Shows memory!"
      ],
      "metadata": {
        "colab": {
          "base_uri": "https://localhost:8080/"
        },
        "id": "aCovAIGGEOpF",
        "outputId": "c9b76a3f-c65f-4308-af51-f282ec18e8b9"
      },
      "execution_count": 69,
      "outputs": [
        {
          "output_type": "stream",
          "name": "stdout",
          "text": [
            "Okay, let's zoom in on the very first crucial step: the **Light-Dependent Reactions**. This is where the magic of capturing sunlight truly begins!\n",
            "\n",
            "Think of it like this: If photosynthesis is a factory making food, the Light-Dependent Reactions are the **power generator** and **initial raw material processing plant**.\n",
            "\n",
            "### The First Step: Light-Dependent Reactions\n",
            "\n",
            "**1. Where it happens:**\n",
            "    *   Inside the plant cell, specifically within the **chloroplasts**.\n",
            "    *   Even more specifically, within the stacks of disc-like structures inside chloroplasts called **thylakoids**. These thylakoids have membranes where all the machinery for this step is located.\n",
            "\n",
            "**2. The Key Ingredient & Tool:**\n",
            "    *   **Light Energy (from the Sun):** This is the ultimate fuel.\n",
            "    *   **Chlorophyll:** This is the special green pigment (the \"solar panel\") embedded in the thylakoid membranes. Its job is to efficiently *absorb* specific wavelengths of light energy. When chlorophyll absorbs light, its electrons get excited, jumping to a higher energy level.\n",
            "\n",
            "**3. What Happens (The Process):**\n",
            "    *   **Light Absorption:** Chlorophyll molecules capture photons (packets of light energy).\n",
            "    *   **Energy Transfer & Electron Flow:** The absorbed light energy excites electrons within the chlorophyll. These excited electrons are then passed along a series of protein complexes (like a microscopic \"electron transport chain\"). As the electrons move, their energy is used.\n",
            "    *   **Water Splitting (Photolysis):** This is super important! To replace the electrons that left chlorophyll, and to power parts of the electron transport chain, water molecules (H₂O) are split apart.\n",
            "        *   When water splits, it releases:\n",
            "            *   **Electrons:** These replace the ones lost by chlorophyll.\n",
            "            *   **Protons (H⁺ ions):** These build up a concentration gradient that will be used to make ATP.\n",
            "            *   **Oxygen (O₂):** This is a *waste product* for the plant, and it's released into the atmosphere – luckily for us, as it's what we breathe!\n",
            "\n",
            "**4. What it Produces (The Outputs):**\n",
            "    *   **Oxygen (O₂):** As mentioned, released into the atmosphere.\n",
            "    *   **ATP (Adenosine Triphosphate):** This is like the immediate \"energy currency\" of the cell. Think of it as a charged battery. It's produced when the flow of protons (from water splitting) powers an enzyme called ATP synthase.\n",
            "    *   **NADPH (Nicotinamide Adenine Dinucleotide Phosphate):** This is another energy-carrying molecule, specifically an \"electron carrier.\" Think of it as a shuttle bus carrying high-energy electrons (and protons).\n",
            "\n",
            "**In a Nutshell for the Light-Dependent Reactions:**\n",
            "\n",
            "Sunlight hits the chlorophyll in the thylakoids. This energy is used to split water, release oxygen, and create two crucial energy-carrying molecules: **ATP** and **NADPH**.\n",
            "\n",
            "These two molecules (ATP and NADPH) are the entire point of the first step. They don't store the plant's food directly, but they are the *energy* and *reducing power* needed for the second step, the Light-Independent Reactions (Calvin Cycle), where the actual sugar is built.\n",
            "\n",
            "Does that breakdown of the first step make more sense?\n"
          ]
        },
        {
          "output_type": "execute_result",
          "data": {
            "text/plain": [
              "<IPython.core.display.Markdown object>"
            ]
          },
          "metadata": {},
          "execution_count": 69
        }
      ]
    },
    {
      "cell_type": "code",
      "source": [],
      "metadata": {
        "id": "JZcLoivtEgGL"
      },
      "execution_count": null,
      "outputs": []
    }
  ]
}