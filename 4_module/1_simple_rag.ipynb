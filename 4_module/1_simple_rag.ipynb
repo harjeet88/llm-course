{
  "nbformat": 4,
  "nbformat_minor": 0,
  "metadata": {
    "colab": {
      "provenance": [],
      "mount_file_id": "https://github.com/harjeet88/llm-course/blob/main/empty_notebook.ipynb",
      "authorship_tag": "ABX9TyM6LRhKQi3onlDBNBZAwjcM",
      "include_colab_link": true
    },
    "kernelspec": {
      "name": "python3",
      "display_name": "Python 3"
    },
    "language_info": {
      "name": "python"
    }
  },
  "cells": [
    {
      "cell_type": "markdown",
      "metadata": {
        "id": "view-in-github",
        "colab_type": "text"
      },
      "source": [
        "<a href=\"https://colab.research.google.com/github/harjeet88/llm-course/blob/main/4_module/1_simple_rag.ipynb\" target=\"_parent\"><img src=\"https://colab.research.google.com/assets/colab-badge.svg\" alt=\"Open In Colab\"/></a>"
      ]
    },
    {
      "cell_type": "code",
      "source": [
        "# Step 1: Install the Google Generative AI SDK\n",
        "!pip install -q openai google-generativeai"
      ],
      "metadata": {
        "id": "ZZmOBXNFKRwm"
      },
      "execution_count": 15,
      "outputs": []
    },
    {
      "cell_type": "code",
      "source": [
        "# Step 2: Import libraries\n",
        "import os\n",
        "import openai\n",
        "from openai import OpenAI\n",
        "from google.colab import userdata\n",
        "#import google.generativeai as genai\n",
        "from IPython.display import display, Markdown"
      ],
      "metadata": {
        "id": "A0aQlfNRKa_L"
      },
      "execution_count": 26,
      "outputs": []
    },
    {
      "cell_type": "code",
      "execution_count": 32,
      "metadata": {
        "id": "WxkB_NqnJfBa"
      },
      "outputs": [],
      "source": [
        "# Step 3\n",
        "GOOGLE_API_KEY=userdata.get('GOOGLE_API_KEY')\n",
        "GEMINI_API_KEY=GOOGLE_API_KEY\n",
        "gemini_model='gemini-2.5-flash'\n",
        "gemini_api_endpoint=\"https://generativelanguage.googleapis.com/v1beta/openai/\""
      ]
    },
    {
      "cell_type": "code",
      "source": [
        "# Step 4: Initialize the model (using Gemini flash)\n",
        "# Configure OpenAI client to use Google's Gemini endpoint\n",
        "gemini = OpenAI(api_key=GOOGLE_API_KEY, base_url=gemini_api_endpoint)"
      ],
      "metadata": {
        "id": "pIB4Syqu24ZV"
      },
      "execution_count": 84,
      "outputs": []
    },
    {
      "cell_type": "code",
      "source": [
        "from sentence_transformers import SentenceTransformer\n",
        "import faiss\n",
        "import numpy as np\n",
        "from huggingface_hub import InferenceClient\n",
        "import os"
      ],
      "metadata": {
        "id": "jsCfBbgCSw_i"
      },
      "execution_count": 83,
      "outputs": []
    },
    {
      "cell_type": "code",
      "source": [
        "# Set Hugging Face API token (get a free token from huggingface.co)\n",
        "os.environ[\"HUGGINGFACEHUB_API_TOKEN\"] = userdata.get('HUGGINGFACE_API_KEY')\n",
        "os.environ[\"HF_TOKEN\"] = userdata.get('HUGGINGFACE_API_KEY')"
      ],
      "metadata": {
        "id": "iByrHS7-TzwV"
      },
      "execution_count": 115,
      "outputs": []
    },
    {
      "cell_type": "code",
      "source": [
        "!echo \"i am harjeet. i work at bla bla company. i am from Bangalore India.\" > \"sample_ai_textbook.txt\""
      ],
      "metadata": {
        "id": "snVSviKcUDE0"
      },
      "execution_count": 90,
      "outputs": []
    },
    {
      "cell_type": "code",
      "source": [
        "# Step 1: Load and chunk document\n",
        "with open(\"sample_ai_textbook.txt\", \"r\") as file:\n",
        "    text = file.read()"
      ],
      "metadata": {
        "id": "A4N7vHWcT-dL"
      },
      "execution_count": 91,
      "outputs": []
    },
    {
      "cell_type": "code",
      "source": [
        "# Simple chunking by splitting into paragraphs (approx. 500 chars)\n",
        "chunks = [text[i:i+500] for i in range(0, len(text), 500)]\n",
        "print(f\"Created {len(chunks)} chunks\")"
      ],
      "metadata": {
        "colab": {
          "base_uri": "https://localhost:8080/"
        },
        "id": "BD0nbKecUYMl",
        "outputId": "5f140b99-8a41-4bcb-d1bd-ac4f53667223"
      },
      "execution_count": 92,
      "outputs": [
        {
          "output_type": "stream",
          "name": "stdout",
          "text": [
            "Created 1 chunks\n"
          ]
        }
      ]
    },
    {
      "cell_type": "code",
      "source": [
        "# Step 2: Create embeddings\n",
        "model = SentenceTransformer(\"all-MiniLM-L6-v2\")\n",
        "embeddings = model.encode(chunks, convert_to_numpy=True)\n",
        "dimension = embeddings.shape[1]  # Embedding size (e.g., 384)"
      ],
      "metadata": {
        "id": "Ut8LNG-4UcTv"
      },
      "execution_count": 116,
      "outputs": []
    },
    {
      "cell_type": "code",
      "source": [
        "# Step 3: Store embeddings in FAISS\n",
        "index = faiss.IndexFlatL2(dimension)\n",
        "index.add(embeddings)\n",
        "print(\"Embeddings stored in FAISS\")"
      ],
      "metadata": {
        "colab": {
          "base_uri": "https://localhost:8080/"
        },
        "id": "0uX5L14IUgNn",
        "outputId": "bfa367c5-3397-4368-d7a6-f6cc9456be91"
      },
      "execution_count": 117,
      "outputs": [
        {
          "output_type": "stream",
          "name": "stdout",
          "text": [
            "Embeddings stored in FAISS\n"
          ]
        }
      ]
    },
    {
      "cell_type": "code",
      "source": [
        "def retrive_chunk(question):\n",
        "  question_embedding = model.encode([question])[0]\n",
        "  D, I = index.search(np.array([question_embedding]), k=1)  # Find top 1 chunk\n",
        "  retrieved_chunk = chunks[I[0][0]]\n",
        "  print(\"Retrieved chunk:\", retrieved_chunk[:100], \"...\")\n",
        "  return retrieved_chunk"
      ],
      "metadata": {
        "id": "aaw2mQUsU6O1"
      },
      "execution_count": 118,
      "outputs": []
    },
    {
      "cell_type": "code",
      "source": [
        "def getAnswer(question) :\n",
        "  retrieved_chunk = retrive_chunk(question)\n",
        "  system=\"you are a LLM using RAG to answer user questions. you are impersonating the person mentioned in RAG. so strictly build answers based on context. If you donot know answer, say i dont know  \"\n",
        "  prompt = f\"Context: {retrieved_chunk}\\n\\nQuestion: {question}\\nAnswer:\"\n",
        "  answer = gemini.chat.completions.create(\n",
        "      model=gemini_model,\n",
        "      messages=[\n",
        "          {\"role\": \"system\", \"content\": system},\n",
        "          {\"role\": \"user\", \"content\": prompt}\n",
        "      ]\n",
        "  ).choices[0].message.content\n",
        "  return answer"
      ],
      "metadata": {
        "id": "icl4yBTRVnFN"
      },
      "execution_count": 119,
      "outputs": []
    },
    {
      "cell_type": "code",
      "source": [
        "# Step 4: Query the system\n",
        "question = \"where do you work?\"\n",
        "answer=getAnswer(question)\n",
        "print(\"Question:\", question)\n",
        "print(\"Answer:\", answer)"
      ],
      "metadata": {
        "colab": {
          "base_uri": "https://localhost:8080/"
        },
        "id": "x_t_AQ9dUldY",
        "outputId": "ed96a1eb-2aca-4111-ed68-6e3099a0af1b"
      },
      "execution_count": 120,
      "outputs": [
        {
          "output_type": "stream",
          "name": "stdout",
          "text": [
            "Retrieved chunk: i am harjeet. i work at bla bla company. i am from Bangalore India.\n",
            " ...\n",
            "Question: where do you work?\n",
            "Answer: I work at bla bla company.\n"
          ]
        }
      ]
    },
    {
      "cell_type": "code",
      "source": [],
      "metadata": {
        "id": "38J7VTRFWn1n"
      },
      "execution_count": null,
      "outputs": []
    }
  ]
}