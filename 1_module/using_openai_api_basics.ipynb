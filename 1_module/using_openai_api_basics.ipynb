{
  "nbformat": 4,
  "nbformat_minor": 0,
  "metadata": {
    "colab": {
      "provenance": [],
      "authorship_tag": "ABX9TyNiXtqudEpgUl+VVJqzRcD7",
      "include_colab_link": true
    },
    "kernelspec": {
      "name": "python3",
      "display_name": "Python 3"
    },
    "language_info": {
      "name": "python"
    }
  },
  "cells": [
    {
      "cell_type": "markdown",
      "metadata": {
        "id": "view-in-github",
        "colab_type": "text"
      },
      "source": [
        "<a href=\"https://colab.research.google.com/github/harjeet88/llm-course/blob/main/1_module/using_openai_api_basics.ipynb\" target=\"_parent\"><img src=\"https://colab.research.google.com/assets/colab-badge.svg\" alt=\"Open In Colab\"/></a>"
      ]
    },
    {
      "cell_type": "code",
      "execution_count": 1,
      "metadata": {
        "id": "WxkB_NqnJfBa"
      },
      "outputs": [],
      "source": [
        "from google.colab import userdata\n",
        "OPENAI_API_KEY=userdata.get('OPENAI_API_KEY')"
      ]
    },
    {
      "cell_type": "code",
      "source": [
        "!pip install -q openai"
      ],
      "metadata": {
        "id": "ZZmOBXNFKRwm"
      },
      "execution_count": 2,
      "outputs": []
    },
    {
      "cell_type": "code",
      "source": [
        "from openai import OpenAI"
      ],
      "metadata": {
        "id": "A0aQlfNRKa_L"
      },
      "execution_count": 3,
      "outputs": []
    },
    {
      "cell_type": "code",
      "source": [
        "client = OpenAI(api_key=OPENAI_API_KEY)"
      ],
      "metadata": {
        "id": "WFxWr2DxKg5C"
      },
      "execution_count": 4,
      "outputs": []
    },
    {
      "cell_type": "code",
      "source": [
        "prompt = \"Explain how LLMs work like I'm 5 years old\""
      ],
      "metadata": {
        "id": "ZTwLJYiiKmLl"
      },
      "execution_count": 5,
      "outputs": []
    },
    {
      "cell_type": "code",
      "source": [
        "messages=[\n",
        "    {\"role\": \"system\", \"content\": \"You are a helpful teacher\"},\n",
        "    {\"role\": \"user\", \"content\": prompt}\n",
        "  ]"
      ],
      "metadata": {
        "id": "60F9bu1nKqFF"
      },
      "execution_count": 6,
      "outputs": []
    },
    {
      "cell_type": "code",
      "source": [
        "response = client.chat.completions.create(\n",
        "  model=\"gpt-4o-mini\",\n",
        "  messages=messages,\n",
        "  temperature=0.7  # Creativity level (0-2)\n",
        ")"
      ],
      "metadata": {
        "id": "FaOKiH-6Kw0m"
      },
      "execution_count": 7,
      "outputs": []
    },
    {
      "cell_type": "code",
      "source": [
        "print(\"🤖 AI Response:\\n\")\n",
        "print(response.choices[0].message.content)"
      ],
      "metadata": {
        "id": "Y6KmZNLnK6sX",
        "outputId": "25412dd6-33f4-4d5c-f507-09ff53b23b3f",
        "colab": {
          "base_uri": "https://localhost:8080/"
        }
      },
      "execution_count": 8,
      "outputs": [
        {
          "output_type": "stream",
          "name": "stdout",
          "text": [
            "🤖 AI Response:\n",
            "\n",
            "Okay! Imagine you have a really big box of crayons, and each crayon is a different color. These crayons help you draw pictures and tell stories. \n",
            "\n",
            "Now, think of a Language Learning Model (LLM) like a super smart robot that has read a whole library full of books. It learned how to put words together to make sentences, just like you learn to talk and tell stories.\n",
            "\n",
            "When you ask this robot a question or tell it to make a story, it picks the best crayons (words) from its big box (the library) to create a picture (sentence) or a story for you. It tries to choose words that fit together nicely, just like you would choose colors that look good together in your drawing.\n",
            "\n",
            "So, LLMs are like very clever robots that help us talk and tell stories using all the words they've learned!\n"
          ]
        }
      ]
    },
    {
      "cell_type": "code",
      "source": [],
      "metadata": {
        "id": "vodiKLXWLAHH"
      },
      "execution_count": null,
      "outputs": []
    }
  ]
}