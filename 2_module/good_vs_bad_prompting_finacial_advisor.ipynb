{
  "nbformat": 4,
  "nbformat_minor": 0,
  "metadata": {
    "colab": {
      "provenance": [],
      "authorship_tag": "ABX9TyOgghkQkLHJ6GfQvo7iXx6F",
      "include_colab_link": true
    },
    "kernelspec": {
      "name": "python3",
      "display_name": "Python 3"
    },
    "language_info": {
      "name": "python"
    }
  },
  "cells": [
    {
      "cell_type": "markdown",
      "metadata": {
        "id": "view-in-github",
        "colab_type": "text"
      },
      "source": [
        "<a href=\"https://colab.research.google.com/github/harjeet88/llm-course/blob/main/2_module/good_vs_bad_prompting_finacial_advisor.ipynb\" target=\"_parent\"><img src=\"https://colab.research.google.com/assets/colab-badge.svg\" alt=\"Open In Colab\"/></a>"
      ]
    },
    {
      "cell_type": "code",
      "execution_count": 1,
      "metadata": {
        "id": "WxkB_NqnJfBa"
      },
      "outputs": [],
      "source": [
        "from google.colab import userdata\n",
        "OPENAI_API_KEY=userdata.get('OPENAI_API_KEY')"
      ]
    },
    {
      "cell_type": "code",
      "source": [
        "!pip install -q openai"
      ],
      "metadata": {
        "id": "ZZmOBXNFKRwm"
      },
      "execution_count": 2,
      "outputs": []
    },
    {
      "cell_type": "code",
      "source": [
        "from openai import OpenAI"
      ],
      "metadata": {
        "id": "A0aQlfNRKa_L"
      },
      "execution_count": 3,
      "outputs": []
    },
    {
      "cell_type": "code",
      "source": [
        "client = OpenAI(api_key=OPENAI_API_KEY)"
      ],
      "metadata": {
        "id": "WFxWr2DxKg5C"
      },
      "execution_count": 4,
      "outputs": []
    },
    {
      "cell_type": "code",
      "source": [
        "prompt = \"\"\"i want to invest in Reliance. What are the fundamentals of Reliance?\n",
        "\"\"\""
      ],
      "metadata": {
        "id": "ZTwLJYiiKmLl"
      },
      "execution_count": 5,
      "outputs": []
    },
    {
      "cell_type": "code",
      "source": [
        "messages=[\n",
        "    {\"role\": \"system\", \"content\": \"You are a financial advisor. Given a stock, you suggest if that stock has good or bad fundamentals. share in output report about date of data used for this analysis\"},\n",
        "    {\"role\": \"user\", \"content\": prompt}\n",
        "  ]"
      ],
      "metadata": {
        "id": "60F9bu1nKqFF"
      },
      "execution_count": 12,
      "outputs": []
    },
    {
      "cell_type": "code",
      "source": [
        "response = client.chat.completions.create(\n",
        "  model=\"gpt-4o-mini\",\n",
        "  messages=messages,\n",
        "  temperature=0.7  # Creativity level (0-2)\n",
        ")"
      ],
      "metadata": {
        "id": "FaOKiH-6Kw0m"
      },
      "execution_count": 13,
      "outputs": []
    },
    {
      "cell_type": "code",
      "source": [
        "print(\"🤖 AI Response:\\n\")\n",
        "print(response.choices[0].message.content)"
      ],
      "metadata": {
        "colab": {
          "base_uri": "https://localhost:8080/"
        },
        "id": "Y6KmZNLnK6sX",
        "outputId": "e5b012ba-0906-4a74-92fc-d9242d6dcce2"
      },
      "execution_count": 14,
      "outputs": [
        {
          "output_type": "stream",
          "name": "stdout",
          "text": [
            "🤖 AI Response:\n",
            "\n",
            "As of my last training data in October 2023, here’s an analysis of Reliance Industries Limited (RIL) based on its fundamentals:\n",
            "\n",
            "1. **Revenue Growth**: Reliance has shown consistent revenue growth over the years, driven by its diversified business segments including petrochemicals, refining, oil, telecommunications (Jio), and retail.\n",
            "\n",
            "2. **Profitability**: The company has maintained healthy profit margins, supported by its integrated business model. The telecom and retail sectors have particularly contributed to its profitability in recent years.\n",
            "\n",
            "3. **Debt Levels**: Reliance has been actively managing its debt. While it had significant debt levels historically due to its capital-intensive projects, the company has made strides in reducing its debt through asset monetization and strategic partnerships.\n",
            "\n",
            "4. **Cash Flow**: Strong cash flow generation from its core businesses, particularly from refining and petrochemicals, has allowed Reliance to invest in growth opportunities and maintain dividends.\n",
            "\n",
            "5. **Market Position**: Reliance is one of the largest companies in India by market capitalization and has a strong competitive position in both the telecommunications (through Jio) and retail sectors.\n",
            "\n",
            "6. **Future Prospects**: The company has been focusing on renewable energy and digital services, positioning itself for future growth in these emerging sectors. Its investment in green energy initiatives is aligned with global trends toward sustainability.\n",
            "\n",
            "7. **Valuation**: Depending on the current market price and earnings reports, Reliance's stock may be considered overvalued or undervalued. It's important to look at P/E ratios, P/B ratios, and other valuation metrics in relation to industry peers.\n",
            "\n",
            "8. **Regulatory Environment**: Reliance operates in a heavily regulated environment, particularly in telecommunications and energy, which can impact its operations and profitability.\n",
            "\n",
            "Overall, Reliance Industries Limited has strong fundamentals, driven by its diversified business model, strategic investments, and market leadership. However, potential investors should keep an eye on its debt levels, market conditions, and broader economic factors.\n",
            "\n",
            "**Date of Data Used for Analysis**: October 2023. \n",
            "\n",
            "Before making any investment decisions, consider conducting further research or consulting with a financial advisor to assess the most current data and market conditions.\n"
          ]
        }
      ]
    },
    {
      "cell_type": "code",
      "source": [
        "from IPython.display import display, Markdown\n",
        "\n",
        "display(Markdown(response.choices[0].message.content))"
      ],
      "metadata": {
        "colab": {
          "base_uri": "https://localhost:8080/",
          "height": 493
        },
        "id": "vodiKLXWLAHH",
        "outputId": "e23cace7-83ef-4abc-da95-8ab05ba7a083"
      },
      "execution_count": 15,
      "outputs": [
        {
          "output_type": "display_data",
          "data": {
            "text/plain": [
              "<IPython.core.display.Markdown object>"
            ],
            "text/markdown": "As of my last training data in October 2023, here’s an analysis of Reliance Industries Limited (RIL) based on its fundamentals:\n\n1. **Revenue Growth**: Reliance has shown consistent revenue growth over the years, driven by its diversified business segments including petrochemicals, refining, oil, telecommunications (Jio), and retail.\n\n2. **Profitability**: The company has maintained healthy profit margins, supported by its integrated business model. The telecom and retail sectors have particularly contributed to its profitability in recent years.\n\n3. **Debt Levels**: Reliance has been actively managing its debt. While it had significant debt levels historically due to its capital-intensive projects, the company has made strides in reducing its debt through asset monetization and strategic partnerships.\n\n4. **Cash Flow**: Strong cash flow generation from its core businesses, particularly from refining and petrochemicals, has allowed Reliance to invest in growth opportunities and maintain dividends.\n\n5. **Market Position**: Reliance is one of the largest companies in India by market capitalization and has a strong competitive position in both the telecommunications (through Jio) and retail sectors.\n\n6. **Future Prospects**: The company has been focusing on renewable energy and digital services, positioning itself for future growth in these emerging sectors. Its investment in green energy initiatives is aligned with global trends toward sustainability.\n\n7. **Valuation**: Depending on the current market price and earnings reports, Reliance's stock may be considered overvalued or undervalued. It's important to look at P/E ratios, P/B ratios, and other valuation metrics in relation to industry peers.\n\n8. **Regulatory Environment**: Reliance operates in a heavily regulated environment, particularly in telecommunications and energy, which can impact its operations and profitability.\n\nOverall, Reliance Industries Limited has strong fundamentals, driven by its diversified business model, strategic investments, and market leadership. However, potential investors should keep an eye on its debt levels, market conditions, and broader economic factors.\n\n**Date of Data Used for Analysis**: October 2023. \n\nBefore making any investment decisions, consider conducting further research or consulting with a financial advisor to assess the most current data and market conditions."
          },
          "metadata": {}
        }
      ]
    },
    {
      "cell_type": "code",
      "source": [
        "prompt = \"\"\"i want to invest in Reliance. What are the fundamentals of Reliance?\n",
        "Make sure you have looked into\n",
        "1. PE ratio\n",
        "2. PB ratio\n",
        "3. EBIDTA\n",
        "4. ROE and ROCE for last 5 year\n",
        "5. intresnsic value\n",
        "6. Graham value\n",
        "\"\"\""
      ],
      "metadata": {
        "id": "lTMUmtkmy8CD"
      },
      "execution_count": 16,
      "outputs": []
    },
    {
      "cell_type": "code",
      "source": [
        "messages=[\n",
        "    {\"role\": \"system\", \"content\": \"You are a financial advisor. Given a stock, you suggest if that stock has good or bad fundamentals. share in output report about date of data used for this analysis\"},\n",
        "    {\"role\": \"user\", \"content\": prompt}\n",
        "  ]"
      ],
      "metadata": {
        "id": "l1AgiAYWyHCE"
      },
      "execution_count": 17,
      "outputs": []
    },
    {
      "cell_type": "code",
      "source": [
        "response = client.chat.completions.create(\n",
        "  model=\"gpt-4o-mini\",\n",
        "  messages=messages,\n",
        "  temperature=0.7  # Creativity level (0-2)\n",
        ")"
      ],
      "metadata": {
        "id": "AXzKpHuAzLsq"
      },
      "execution_count": 18,
      "outputs": []
    },
    {
      "cell_type": "code",
      "source": [
        "display(Markdown(response.choices[0].message.content))"
      ],
      "metadata": {
        "id": "FoFT2lKFzOTs",
        "outputId": "b58254fd-bd05-4511-d312-4ef2d33af422",
        "colab": {
          "base_uri": "https://localhost:8080/",
          "height": 706
        }
      },
      "execution_count": 19,
      "outputs": [
        {
          "output_type": "display_data",
          "data": {
            "text/plain": [
              "<IPython.core.display.Markdown object>"
            ],
            "text/markdown": "As of the latest available data up to October 2023, I will provide an analysis of Reliance Industries Limited (RIL) based on the requested fundamentals:\n\n### 1. PE Ratio (Price-to-Earnings Ratio)\n- **Current PE Ratio**: Reliance's PE ratio stands at approximately 30. This indicates how much investors are willing to pay per rupee of earnings. A higher PE ratio may suggest that the stock is overvalued, or it could reflect high growth expectations.\n\n### 2. PB Ratio (Price-to-Book Ratio)\n- **Current PB Ratio**: The PB ratio is around 2.5. A PB ratio above 1 indicates that investors are willing to pay more than the book value, which might imply confidence in the company's future growth.\n\n### 3. EBITDA (Earnings Before Interest, Taxes, Depreciation, and Amortization)\n- **Current EBITDA**: Reliance's EBITDA for the last fiscal year was approximately ₹1.5 trillion. This figure reflects the company's operating performance without the impact of financing and accounting decisions.\n\n### 4. ROE (Return on Equity) and ROCE (Return on Capital Employed) for the Last 5 Years\n- **ROE**: RIL's ROE has shown a gradual increase, currently standing at about 12%. This measures the company's profitability in relation to shareholders' equity.\n- **ROCE**: The ROCE is reported at around 8%. This metric indicates the efficiency and profitability of capital investments.\n\n### 5. Intrinsic Value\n- **Intrinsic Value Calculation**: Using discounted cash flow (DCF) analysis and considering growth rates and discount rates, the intrinsic value of Reliance is estimated to be around ₹2,800 per share. This value suggests a healthy investment opportunity if the market price is substantially lower than this intrinsic value.\n\n### 6. Graham Value\n- **Graham Value Calculation**: Based on Benjamin Graham's formula, the Graham value for Reliance is calculated to be approximately ₹2,500 per share. This value indicates a conservative estimate of the stock’s worth, providing a benchmark for investors.\n\n### Conclusion\nBased on the analysis of the fundamentals, Reliance Industries Limited appears to have solid fundamentals, with a good balance of growth potential and profitability. However, the current market price should be compared against the intrinsic and Graham values to determine if it's a good investment opportunity.\n\n**Date of Data Used for Analysis**: The data utilized in this analysis is from financial reports and market data available up to October 2023. \n\n### Recommendation\nInvestors should consider their risk tolerance and investment horizon before making a decision. It may also be beneficial to keep an eye on market conditions and company performance updates."
          },
          "metadata": {}
        }
      ]
    },
    {
      "cell_type": "code",
      "source": [],
      "metadata": {
        "id": "tY0EVVy_zTrm"
      },
      "execution_count": null,
      "outputs": []
    }
  ]
}