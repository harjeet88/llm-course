{
  "nbformat": 4,
  "nbformat_minor": 0,
  "metadata": {
    "colab": {
      "provenance": [],
      "authorship_tag": "ABX9TyMyhxAgSl52hrm/jOliH8gQ",
      "include_colab_link": true
    },
    "kernelspec": {
      "name": "python3",
      "display_name": "Python 3"
    },
    "language_info": {
      "name": "python"
    }
  },
  "cells": [
    {
      "cell_type": "markdown",
      "metadata": {
        "id": "view-in-github",
        "colab_type": "text"
      },
      "source": [
        "<a href=\"https://colab.research.google.com/github/harjeet88/llm-course/blob/main/2_module/4_not_good_with_math.ipynb\" target=\"_parent\"><img src=\"https://colab.research.google.com/assets/colab-badge.svg\" alt=\"Open In Colab\"/></a>"
      ]
    },
    {
      "cell_type": "code",
      "execution_count": 1,
      "metadata": {
        "id": "WxkB_NqnJfBa"
      },
      "outputs": [],
      "source": [
        "from google.colab import userdata\n",
        "OPENAI_API_KEY=userdata.get('OPENAI_API_KEY')"
      ]
    },
    {
      "cell_type": "code",
      "source": [
        "!pip install -q openai"
      ],
      "metadata": {
        "id": "ZZmOBXNFKRwm"
      },
      "execution_count": 2,
      "outputs": []
    },
    {
      "cell_type": "code",
      "source": [
        "from openai import OpenAI"
      ],
      "metadata": {
        "id": "A0aQlfNRKa_L"
      },
      "execution_count": 3,
      "outputs": []
    },
    {
      "cell_type": "code",
      "source": [
        "client = OpenAI(api_key=OPENAI_API_KEY)"
      ],
      "metadata": {
        "id": "WFxWr2DxKg5C"
      },
      "execution_count": 4,
      "outputs": []
    },
    {
      "cell_type": "code",
      "source": [
        "system=\"You are a helpful assitant\""
      ],
      "metadata": {
        "id": "-zyPi6V05m-N"
      },
      "execution_count": 73,
      "outputs": []
    },
    {
      "cell_type": "code",
      "source": [
        "prompt = \"\"\"A bat and ball cost $1.10. Bat costs $1 more. Ball cost?\n",
        "\"\"\""
      ],
      "metadata": {
        "id": "ZTwLJYiiKmLl"
      },
      "execution_count": 68,
      "outputs": []
    },
    {
      "cell_type": "code",
      "source": [
        "messages=[\n",
        "    {\"role\": \"system\", \"content\": system},\n",
        "    {\"role\": \"user\", \"content\": prompt}\n",
        "  ]"
      ],
      "metadata": {
        "id": "60F9bu1nKqFF"
      },
      "execution_count": 69,
      "outputs": []
    },
    {
      "cell_type": "code",
      "source": [
        "response = client.chat.completions.create(\n",
        "  model=\"gpt-4o-mini\",\n",
        "  messages=messages,\n",
        "  temperature=0.7  # Creativity level (0-2)\n",
        ")"
      ],
      "metadata": {
        "id": "FaOKiH-6Kw0m"
      },
      "execution_count": 70,
      "outputs": []
    },
    {
      "cell_type": "code",
      "source": [
        "#print(\"🤖 AI Response:\\n\")\n",
        "#print(response.choices[0].message.content)"
      ],
      "metadata": {
        "id": "Y6KmZNLnK6sX"
      },
      "execution_count": 71,
      "outputs": []
    },
    {
      "cell_type": "code",
      "source": [
        "from IPython.display import display, Markdown\n",
        "\n",
        "display(Markdown(response.choices[0].message.content))"
      ],
      "metadata": {
        "colab": {
          "base_uri": "https://localhost:8080/",
          "height": 257
        },
        "id": "vodiKLXWLAHH",
        "outputId": "afcc7d0c-1af5-405d-9ac0-a359c53f0188"
      },
      "execution_count": 72,
      "outputs": [
        {
          "output_type": "display_data",
          "data": {
            "text/plain": [
              "<IPython.core.display.Markdown object>"
            ],
            "text/markdown": "Let's denote the cost of the ball as \\( x \\) dollars. According to the problem, the bat costs $1 more than the ball, so the cost of the bat would be \\( x + 1 \\) dollars.\n\nThe total cost of the bat and ball is given as $1.10. We can set up the equation:\n\n\\[\nx + (x + 1) = 1.10\n\\]\n\nSimplifying this equation:\n\n\\[\n2x + 1 = 1.10\n\\]\n\nSubtracting 1 from both sides:\n\n\\[\n2x = 0.10\n\\]\n\nDividing both sides by 2:\n\n\\[\nx = 0.05\n\\]\n\nSo, the cost of the ball is **$0.05** (5 cents)."
          },
          "metadata": {}
        }
      ]
    },
    {
      "cell_type": "code",
      "source": [
        "prompt = prompt+\"\"\" think step by step\"\"\""
      ],
      "metadata": {
        "id": "lTMUmtkmy8CD"
      },
      "execution_count": 48,
      "outputs": []
    },
    {
      "cell_type": "code",
      "source": [
        "#system = \"\"\"You are a financial advisor. Given a stock, you suggest if that stock has good or bad fundamentals. share in output report about date of data used for this analysis.\n",
        "#    if you need more information, then ask. dont assume and make sure you are not giving wrong information\"\"\"\n",
        "#system = \"\"\"You are a remarkably accurate astrologer, who is famous for making accurate predictions based on accurate astrology calculations.\n",
        "#    if you need more information, then ask. dont assume and make sure you are not giving wrong information\"\"\""
      ],
      "metadata": {
        "id": "dWR4chFb1F97"
      },
      "execution_count": 49,
      "outputs": []
    },
    {
      "cell_type": "code",
      "source": [
        "messages=[\n",
        "    {\"role\": \"system\", \"content\": system},\n",
        "    {\"role\": \"user\", \"content\": prompt}\n",
        "  ]"
      ],
      "metadata": {
        "id": "l1AgiAYWyHCE"
      },
      "execution_count": 74,
      "outputs": []
    },
    {
      "cell_type": "code",
      "source": [
        "response = client.chat.completions.create(\n",
        "  model=\"gpt-4o-mini\",\n",
        "  messages=messages,\n",
        "  temperature=0.7  # Creativity level (0-2)\n",
        ")"
      ],
      "metadata": {
        "id": "AXzKpHuAzLsq"
      },
      "execution_count": 75,
      "outputs": []
    },
    {
      "cell_type": "code",
      "source": [
        "display(Markdown(response.choices[0].message.content))"
      ],
      "metadata": {
        "colab": {
          "base_uri": "https://localhost:8080/",
          "height": 163
        },
        "id": "FoFT2lKFzOTs",
        "outputId": "4bbf2721-a521-4fa2-e19c-637757650625"
      },
      "execution_count": 76,
      "outputs": [
        {
          "output_type": "display_data",
          "data": {
            "text/plain": [
              "<IPython.core.display.Markdown object>"
            ],
            "text/markdown": "Let's denote the cost of the ball as \\( x \\) dollars. According to the problem, the bat costs $1 more than the ball, so the cost of the bat would be \\( x + 1 \\) dollars.\n\nThe total cost of the bat and ball is given as $1.10. Therefore, we can set up the following equation:\n\n\\[\nx + (x + 1) = 1.10\n\\]\n\nSimplifying this equation:\n\n\\[\n2x + 1 = 1.10\n\\]\n\\[\n2x = 1.10 - 1\n\\]\n\\[\n2x = 0.10\n\\]\n\\[\nx = 0.10 / 2\n\\]\n\\[\nx = 0.05\n\\]\n\nThus, the cost of the ball is **$0.05** (5 cents)."
          },
          "metadata": {}
        }
      ]
    },
    {
      "cell_type": "code",
      "source": [],
      "metadata": {
        "id": "4iftyEiM3-NX"
      },
      "execution_count": null,
      "outputs": []
    }
  ]
}