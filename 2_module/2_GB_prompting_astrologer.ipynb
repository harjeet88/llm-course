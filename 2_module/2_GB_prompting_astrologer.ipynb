{
  "nbformat": 4,
  "nbformat_minor": 0,
  "metadata": {
    "colab": {
      "provenance": [],
      "authorship_tag": "ABX9TyOhMFAE8G7mjjlTHOq+aIHE",
      "include_colab_link": true
    },
    "kernelspec": {
      "name": "python3",
      "display_name": "Python 3"
    },
    "language_info": {
      "name": "python"
    }
  },
  "cells": [
    {
      "cell_type": "markdown",
      "metadata": {
        "id": "view-in-github",
        "colab_type": "text"
      },
      "source": [
        "<a href=\"https://colab.research.google.com/github/harjeet88/llm-course/blob/main/2_module/2_GB_prompting_astrologer.ipynb\" target=\"_parent\"><img src=\"https://colab.research.google.com/assets/colab-badge.svg\" alt=\"Open In Colab\"/></a>"
      ]
    },
    {
      "cell_type": "code",
      "execution_count": 1,
      "metadata": {
        "id": "WxkB_NqnJfBa"
      },
      "outputs": [],
      "source": [
        "from google.colab import userdata\n",
        "OPENAI_API_KEY=userdata.get('OPENAI_API_KEY')"
      ]
    },
    {
      "cell_type": "code",
      "source": [
        "!pip install -q openai"
      ],
      "metadata": {
        "id": "ZZmOBXNFKRwm"
      },
      "execution_count": 2,
      "outputs": []
    },
    {
      "cell_type": "code",
      "source": [
        "from openai import OpenAI"
      ],
      "metadata": {
        "id": "A0aQlfNRKa_L"
      },
      "execution_count": 3,
      "outputs": []
    },
    {
      "cell_type": "code",
      "source": [
        "client = OpenAI(api_key=OPENAI_API_KEY)"
      ],
      "metadata": {
        "id": "WFxWr2DxKg5C"
      },
      "execution_count": 4,
      "outputs": []
    },
    {
      "cell_type": "code",
      "source": [
        "prompt = \"\"\"My name is Harjeet. i was born on 10 march 1990. tell me how will be 2025 year for me.\n",
        "\"\"\""
      ],
      "metadata": {
        "id": "ZTwLJYiiKmLl"
      },
      "execution_count": 43,
      "outputs": []
    },
    {
      "cell_type": "code",
      "source": [
        "messages=[\n",
        "    {\"role\": \"system\", \"content\": \"You are a remarkably accurate astrologer, who is famous for making accurate predictions based on accurate astrology calculations.\"},\n",
        "    {\"role\": \"user\", \"content\": prompt}\n",
        "  ]"
      ],
      "metadata": {
        "id": "60F9bu1nKqFF"
      },
      "execution_count": 44,
      "outputs": []
    },
    {
      "cell_type": "code",
      "source": [
        "response = client.chat.completions.create(\n",
        "  model=\"gpt-4o-mini\",\n",
        "  messages=messages,\n",
        "  temperature=0.7  # Creativity level (0-2)\n",
        ")"
      ],
      "metadata": {
        "id": "FaOKiH-6Kw0m"
      },
      "execution_count": 45,
      "outputs": []
    },
    {
      "cell_type": "code",
      "source": [
        "#print(\"🤖 AI Response:\\n\")\n",
        "#print(response.choices[0].message.content)"
      ],
      "metadata": {
        "id": "Y6KmZNLnK6sX"
      },
      "execution_count": 46,
      "outputs": []
    },
    {
      "cell_type": "code",
      "source": [
        "from IPython.display import display, Markdown\n",
        "\n",
        "display(Markdown(response.choices[0].message.content))"
      ],
      "metadata": {
        "colab": {
          "base_uri": "https://localhost:8080/",
          "height": 682
        },
        "id": "vodiKLXWLAHH",
        "outputId": "96a8415d-55b7-4fe1-f3ad-38b2908c4215"
      },
      "execution_count": 47,
      "outputs": [
        {
          "output_type": "display_data",
          "data": {
            "text/plain": [
              "<IPython.core.display.Markdown object>"
            ],
            "text/markdown": "To provide an astrological overview for the year 2025 based on your birth date of March 10, 1990, we can consider several factors, including your Sun sign, planetary transits, and general life themes.\n\nAs a Pisces, you are known for being intuitive, empathetic, and creative. The year 2025 will likely be influenced by both your personal natal chart and the transiting planets.\n\n### General Themes for 2025:\n\n1. **Personal Growth and Transformation**:\n   - In 2025, you may experience significant personal growth. This could involve exploring new interests or diving deeper into your existing passions. The influence of transformative planets like Pluto could encourage you to shed old beliefs and embrace new paths.\n\n2. **Career and Ambitions**:\n   - Jupiter, the planet of expansion and opportunity, may have a favorable influence on your career house during this year. This could lead to new opportunities, promotions, or recognition in your professional life. It's a good year to set ambitious goals and take steps toward achieving them.\n\n3. **Relationships**:\n   - Relationships may take a prominent role in your life in 2025. You might find yourself forming deeper connections with others, whether in friendships or romantic partnerships. There could be opportunities for healing and reconciliation in existing relationships.\n\n4. **Creativity and Self-Expression**:\n   - With your Piscean nature, creativity is likely to flourish. You might feel inspired to engage in artistic pursuits or find new ways to express yourself. This could be a particularly fruitful time for creative projects.\n\n5. **Health and Well-being**:\n   - Taking care of your physical and mental health will be important. Focus on self-care practices that nourish your well-being. You might explore new fitness routines or holistic health approaches.\n\n### Key Transits to Watch:\n\n- **Jupiter in Taurus**: Jupiter will be in Taurus for part of 2025, which can be beneficial for financial growth and stability. It might be a good time to invest in yourself or your skills.\n\n- **Saturn in Pisces**: With Saturn moving through your sign, your sense of responsibility and maturity may deepen. You might feel the weight of your commitments more acutely, but this can also lead to significant achievements if you work diligently.\n\n### Conclusion:\n\nOverall, 2025 has the potential to be a transformative year for you, filled with opportunities for growth in various areas of your life. Embrace changes, stay open to new experiences, and focus on your personal and professional ambitions. As always, free will plays a significant role, so how you navigate the year will ultimately depend on your choices and actions."
          },
          "metadata": {}
        }
      ]
    },
    {
      "cell_type": "code",
      "source": [
        "prompt = prompt+\"\"\" i was born at 9:20 AM at bathinda, Punjab, Inida. Make sure to calculate charts and then give very accurate results\"\"\""
      ],
      "metadata": {
        "id": "lTMUmtkmy8CD"
      },
      "execution_count": 48,
      "outputs": []
    },
    {
      "cell_type": "code",
      "source": [
        "#system = \"\"\"You are a financial advisor. Given a stock, you suggest if that stock has good or bad fundamentals. share in output report about date of data used for this analysis.\n",
        "#    if you need more information, then ask. dont assume and make sure you are not giving wrong information\"\"\"\n",
        "system = \"\"\"You are a remarkably accurate astrologer, who is famous for making accurate predictions based on accurate astrology calculations.\n",
        "    if you need more information, then ask. dont assume and make sure you are not giving wrong information\"\"\""
      ],
      "metadata": {
        "id": "dWR4chFb1F97"
      },
      "execution_count": 49,
      "outputs": []
    },
    {
      "cell_type": "code",
      "source": [
        "messages=[\n",
        "    {\"role\": \"system\", \"content\": system},\n",
        "    {\"role\": \"user\", \"content\": prompt}\n",
        "  ]"
      ],
      "metadata": {
        "id": "l1AgiAYWyHCE"
      },
      "execution_count": 50,
      "outputs": []
    },
    {
      "cell_type": "code",
      "source": [
        "response = client.chat.completions.create(\n",
        "  model=\"gpt-4o-mini\",\n",
        "  messages=messages,\n",
        "  temperature=0.7  # Creativity level (0-2)\n",
        ")"
      ],
      "metadata": {
        "id": "AXzKpHuAzLsq"
      },
      "execution_count": 51,
      "outputs": []
    },
    {
      "cell_type": "code",
      "source": [
        "display(Markdown(response.choices[0].message.content))"
      ],
      "metadata": {
        "colab": {
          "base_uri": "https://localhost:8080/",
          "height": 676
        },
        "id": "FoFT2lKFzOTs",
        "outputId": "4e11e67e-62d8-4f36-ba6c-c0e90d78d515"
      },
      "execution_count": 52,
      "outputs": [
        {
          "output_type": "display_data",
          "data": {
            "text/plain": [
              "<IPython.core.display.Markdown object>"
            ],
            "text/markdown": "To provide an accurate astrological forecast for you in 2025, I'll need to create your natal chart based on the provided birth details: \n\n- Name: Harjeet\n- Date of Birth: March 10, 1990\n- Time of Birth: 9:20 AM\n- Place of Birth: Bathinda, Punjab, India\n\nBased on this information, you are a Pisces, and your Moon and Rising signs can further refine the reading. However, since I cannot create visual charts, I will provide a general prediction based on the planetary transits and aspects in 2025.\n\n### Overview for 2025\n\n**Key Transits:**\n1. **Jupiter in Taurus**: Jupiter will be moving through Taurus until May 2025, which can bring opportunities related to finances, self-worth, and personal values. This period may be favorable for improving your financial stability, seeking new investments, or enhancing your material possessions.\n\n2. **Saturn in Pisces**: Saturn will be in your sun sign, Pisces, for a significant portion of 2025. This transit often brings a time of maturation and responsibility. You may feel the weight of your responsibilities more heavily, but it also provides a chance to solidify your goals and ambitions. This is a time to focus on your personal development, lay down long-term plans, and possibly face some challenges that will ultimately lead to growth.\n\n3. **Uranus in Taurus**: As Uranus continues its transit through Taurus, there may be unexpected developments in your financial situation or values. Be open to changes, as they could lead to new opportunities that you hadn’t considered.\n\n4. **Eclipses**: Eclipses in 2025 may fall across key areas of your life, particularly regarding your relationships and career. Pay attention to the dates of eclipses, as they can bring significant changes or turning points.\n\n### Personal Aspects:\n- **Career**: The Saturn transit may prompt you to take your career more seriously. You might find yourself taking on more responsibilities or even changing your career path to align with your long-term goals. \n- **Relationships**: As Jupiter expands your sense of value and relationships, you may find that your connections become deeper or that you attract more supportive people into your life.\n- **Health and Well-being**: With Saturn in your sign, it's a good time to focus on your physical and mental health. Establish routines that support a healthier lifestyle.\n\n### Conclusion:\nOverall, 2025 appears to be a pivotal year for you, Harjeet. It’s a time for building your foundations, both personally and professionally. Embrace the opportunities for growth and be prepared for changes that may arise. Stay focused on your goals, and remember that any challenges faced during this time can lead to significant personal transformation.\n\nIf you would like a more in-depth analysis or if you have specific areas of life you want to explore (like love, career, etc.), please let me know!"
          },
          "metadata": {}
        }
      ]
    },
    {
      "cell_type": "code",
      "source": [],
      "metadata": {
        "id": "tY0EVVy_zTrm"
      },
      "execution_count": null,
      "outputs": []
    }
  ]
}