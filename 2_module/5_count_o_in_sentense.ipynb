{
  "nbformat": 4,
  "nbformat_minor": 0,
  "metadata": {
    "colab": {
      "provenance": [],
      "authorship_tag": "ABX9TyMMwYGqlxYb6Rx2BEpZVwP0",
      "include_colab_link": true
    },
    "kernelspec": {
      "name": "python3",
      "display_name": "Python 3"
    },
    "language_info": {
      "name": "python"
    }
  },
  "cells": [
    {
      "cell_type": "markdown",
      "metadata": {
        "id": "view-in-github",
        "colab_type": "text"
      },
      "source": [
        "<a href=\"https://colab.research.google.com/github/harjeet88/llm-course/blob/main/2_module/5_count_o_in_sentense.ipynb\" target=\"_parent\"><img src=\"https://colab.research.google.com/assets/colab-badge.svg\" alt=\"Open In Colab\"/></a>"
      ]
    },
    {
      "cell_type": "code",
      "execution_count": 1,
      "metadata": {
        "id": "WxkB_NqnJfBa"
      },
      "outputs": [],
      "source": [
        "from google.colab import userdata\n",
        "OPENAI_API_KEY=userdata.get('OPENAI_API_KEY')"
      ]
    },
    {
      "cell_type": "code",
      "source": [
        "!pip install -q openai"
      ],
      "metadata": {
        "id": "ZZmOBXNFKRwm"
      },
      "execution_count": 2,
      "outputs": []
    },
    {
      "cell_type": "code",
      "source": [
        "from openai import OpenAI"
      ],
      "metadata": {
        "id": "A0aQlfNRKa_L"
      },
      "execution_count": 3,
      "outputs": []
    },
    {
      "cell_type": "code",
      "source": [
        "client = OpenAI(api_key=OPENAI_API_KEY)"
      ],
      "metadata": {
        "id": "WFxWr2DxKg5C"
      },
      "execution_count": 4,
      "outputs": []
    },
    {
      "cell_type": "code",
      "source": [
        "system=\"You are a helpful assitant\""
      ],
      "metadata": {
        "id": "-zyPi6V05m-N"
      },
      "execution_count": 73,
      "outputs": []
    },
    {
      "cell_type": "code",
      "source": [
        "prompt = \"\"\"count number of o in this sentence\n",
        "\"\"\""
      ],
      "metadata": {
        "id": "ZTwLJYiiKmLl"
      },
      "execution_count": 77,
      "outputs": []
    },
    {
      "cell_type": "code",
      "source": [
        "messages=[\n",
        "    {\"role\": \"system\", \"content\": system},\n",
        "    {\"role\": \"user\", \"content\": prompt}\n",
        "  ]"
      ],
      "metadata": {
        "id": "60F9bu1nKqFF"
      },
      "execution_count": 78,
      "outputs": []
    },
    {
      "cell_type": "code",
      "source": [
        "response = client.chat.completions.create(\n",
        "  model=\"gpt-4o-mini\",\n",
        "  messages=messages,\n",
        "  temperature=0.7  # Creativity level (0-2)\n",
        ")"
      ],
      "metadata": {
        "id": "FaOKiH-6Kw0m"
      },
      "execution_count": 79,
      "outputs": []
    },
    {
      "cell_type": "code",
      "source": [
        "#print(\"🤖 AI Response:\\n\")\n",
        "#print(response.choices[0].message.content)"
      ],
      "metadata": {
        "id": "Y6KmZNLnK6sX"
      },
      "execution_count": 80,
      "outputs": []
    },
    {
      "cell_type": "code",
      "source": [
        "from IPython.display import display, Markdown\n",
        "\n",
        "display(Markdown(response.choices[0].message.content))"
      ],
      "metadata": {
        "colab": {
          "base_uri": "https://localhost:8080/",
          "height": 46
        },
        "id": "vodiKLXWLAHH",
        "outputId": "a4c3b88a-9ccc-431c-efaa-d37e7260ac93"
      },
      "execution_count": 81,
      "outputs": [
        {
          "output_type": "display_data",
          "data": {
            "text/plain": [
              "<IPython.core.display.Markdown object>"
            ],
            "text/markdown": "The sentence you provided has one \"o.\" If you have a different sentence you'd like me to analyze, please share it!"
          },
          "metadata": {}
        }
      ]
    },
    {
      "cell_type": "code",
      "source": [
        "prompt = prompt+\"\"\" think step by step\"\"\""
      ],
      "metadata": {
        "id": "lTMUmtkmy8CD"
      },
      "execution_count": 82,
      "outputs": []
    },
    {
      "cell_type": "code",
      "source": [
        "#system = \"\"\"You are a financial advisor. Given a stock, you suggest if that stock has good or bad fundamentals. share in output report about date of data used for this analysis.\n",
        "#    if you need more information, then ask. dont assume and make sure you are not giving wrong information\"\"\"\n",
        "#system = \"\"\"You are a remarkably accurate astrologer, who is famous for making accurate predictions based on accurate astrology calculations.\n",
        "#    if you need more information, then ask. dont assume and make sure you are not giving wrong information\"\"\""
      ],
      "metadata": {
        "id": "dWR4chFb1F97"
      },
      "execution_count": 83,
      "outputs": []
    },
    {
      "cell_type": "code",
      "source": [
        "messages=[\n",
        "    {\"role\": \"system\", \"content\": system},\n",
        "    {\"role\": \"user\", \"content\": prompt}\n",
        "  ]"
      ],
      "metadata": {
        "id": "l1AgiAYWyHCE"
      },
      "execution_count": 84,
      "outputs": []
    },
    {
      "cell_type": "code",
      "source": [
        "response = client.chat.completions.create(\n",
        "  model=\"gpt-4o-mini\",\n",
        "  messages=messages,\n",
        "  temperature=0.7  # Creativity level (0-2)\n",
        ")"
      ],
      "metadata": {
        "id": "AXzKpHuAzLsq"
      },
      "execution_count": 85,
      "outputs": []
    },
    {
      "cell_type": "code",
      "source": [
        "display(Markdown(response.choices[0].message.content))"
      ],
      "metadata": {
        "colab": {
          "base_uri": "https://localhost:8080/",
          "height": 185
        },
        "id": "FoFT2lKFzOTs",
        "outputId": "a4bf39a5-dab6-4655-8343-41060b960068"
      },
      "execution_count": 86,
      "outputs": [
        {
          "output_type": "display_data",
          "data": {
            "text/plain": [
              "<IPython.core.display.Markdown object>"
            ],
            "text/markdown": "Let's break down the sentence \"think step by step\" and count the number of 'o' characters.\n\n1. \"think\" - 0 'o's\n2. \"step\" - 0 'o's\n3. \"by\" - 0 'o's\n4. \"step\" - 0 'o's\n\nTotal count of 'o's = 0.\n\nThere are 0 occurrences of the letter 'o' in the sentence."
          },
          "metadata": {}
        }
      ]
    },
    {
      "cell_type": "code",
      "source": [],
      "metadata": {
        "id": "4iftyEiM3-NX"
      },
      "execution_count": null,
      "outputs": []
    }
  ]
}