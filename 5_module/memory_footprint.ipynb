{
  "nbformat": 4,
  "nbformat_minor": 0,
  "metadata": {
    "colab": {
      "provenance": [],
      "gpuType": "T4",
      "mount_file_id": "https://github.com/harjeet88/llm-course/blob/main/empty_notebook.ipynb",
      "authorship_tag": "ABX9TyMORS1UQdBVZI16zStcI4E4",
      "include_colab_link": true
    },
    "kernelspec": {
      "name": "python3",
      "display_name": "Python 3"
    },
    "language_info": {
      "name": "python"
    },
    "accelerator": "GPU"
  },
  "cells": [
    {
      "cell_type": "markdown",
      "metadata": {
        "id": "view-in-github",
        "colab_type": "text"
      },
      "source": [
        "<a href=\"https://colab.research.google.com/github/harjeet88/llm-course/blob/main/5_module/memory_footprint.ipynb\" target=\"_parent\"><img src=\"https://colab.research.google.com/assets/colab-badge.svg\" alt=\"Open In Colab\"/></a>"
      ]
    },
    {
      "cell_type": "markdown",
      "source": [
        "# Loading a 7B Model with BitsAndBytes: Memory-Efficient Inference\n",
        "\n",
        "In this notebook, we'll:\n",
        "1. Install required libraries.\n",
        "2. Load a quantized model to reduce VRAM usage (e.g., from ~14GB to ~4-7GB for a 7B model).\n",
        "3. Generate text to verify it works.\n",
        "4. Monitor memory usage.\n",
        "\n",
        "Quantization via `bitsandbytes` compresses weights without much accuracy loss."
      ],
      "metadata": {
        "id": "aoHlSWulA45e"
      }
    },
    {
      "cell_type": "code",
      "source": [
        "# Loading a 7B Model with BitsAndBytes: Memory-Efficient Inference\n",
        "\n",
        "In this notebook, we'll:\n",
        "1. Install required libraries.\n",
        "2. Load a quantized model to reduce VRAM usage (e.g., from ~14GB to ~4-7GB for a 7B model).\n",
        "3. Generate text to verify it works.\n",
        "4. Monitor memory usage.\n",
        "\n",
        "Quantization via `bitsandbytes` compresses weights without much accuracy loss."
      ],
      "metadata": {
        "id": "cnYp0GLQw5MS"
      },
      "execution_count": null,
      "outputs": []
    }
  ]
}