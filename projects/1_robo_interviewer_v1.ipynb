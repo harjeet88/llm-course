{
  "nbformat": 4,
  "nbformat_minor": 0,
  "metadata": {
    "colab": {
      "provenance": [],
      "mount_file_id": "https://github.com/harjeet88/llm-course/blob/main/empty_notebook.ipynb",
      "authorship_tag": "ABX9TyMAuhpcbFwyYhGKsE4fzxSQ",
      "include_colab_link": true
    },
    "kernelspec": {
      "name": "python3",
      "display_name": "Python 3"
    },
    "language_info": {
      "name": "python"
    }
  },
  "cells": [
    {
      "cell_type": "markdown",
      "metadata": {
        "id": "view-in-github",
        "colab_type": "text"
      },
      "source": [
        "<a href=\"https://colab.research.google.com/github/harjeet88/llm-course/blob/main/projects/1_robo_interviewer_v1.ipynb\" target=\"_parent\"><img src=\"https://colab.research.google.com/assets/colab-badge.svg\" alt=\"Open In Colab\"/></a>"
      ]
    },
    {
      "cell_type": "code",
      "source": [
        "!pip install -q gradio google-generativeai pydantic"
      ],
      "metadata": {
        "id": "tAANt12gA63l"
      },
      "execution_count": 8,
      "outputs": []
    },
    {
      "cell_type": "code",
      "source": [
        "import gradio as gr\n",
        "import sqlite3\n",
        "import os\n",
        "import google.generativeai as genai\n",
        "from pydantic import BaseModel\n",
        "from typing import List, Tuple\n",
        "import uuid\n",
        "import json"
      ],
      "metadata": {
        "id": "cnYp0GLQw5MS"
      },
      "execution_count": 1,
      "outputs": []
    },
    {
      "cell_type": "code",
      "source": [
        "# Set up logging\n",
        "import logging\n",
        "logging.basicConfig(level=logging.DEBUG)\n",
        "logger = logging.getLogger(__name__)"
      ],
      "metadata": {
        "id": "fv5PHjAJE8fe"
      },
      "execution_count": 31,
      "outputs": []
    },
    {
      "cell_type": "code",
      "source": [
        "# In-memory state store\n",
        "state_store = {}"
      ],
      "metadata": {
        "id": "nzIG7FGYMfYQ"
      },
      "execution_count": 51,
      "outputs": []
    },
    {
      "cell_type": "code",
      "source": [
        "# Pydantic models for data validation\n",
        "class InterviewConfig(BaseModel):\n",
        "    num_questions: int\n",
        "    technology: str\n",
        "    candidate_id: str\n",
        "\n",
        "class InterviewResponse(BaseModel):\n",
        "    question: str\n",
        "    answer: str\n",
        "    score: int\n",
        "    feedback: str"
      ],
      "metadata": {
        "id": "C79mITCVAC_B"
      },
      "execution_count": 52,
      "outputs": []
    },
    {
      "cell_type": "code",
      "source": [
        "# Database setup\n",
        "def init_db():\n",
        "    conn = sqlite3.connect('interview.db')\n",
        "    c = conn.cursor()\n",
        "    c.execute('''CREATE TABLE IF NOT EXISTS interviews\n",
        "                 (interview_id TEXT PRIMARY KEY, candidate_id TEXT, config TEXT, start_time TEXT)''')\n",
        "    c.execute('''CREATE TABLE IF NOT EXISTS responses\n",
        "                 (response_id TEXT PRIMARY KEY, interview_id TEXT, question TEXT, answer TEXT, score INTEGER, feedback TEXT)''')\n",
        "    conn.commit()\n",
        "    conn.close()"
      ],
      "metadata": {
        "id": "TwedKuYtAGlD"
      },
      "execution_count": 53,
      "outputs": []
    },
    {
      "cell_type": "code",
      "source": [
        "from google.colab import userdata\n",
        "GOOGLE_API_KEY=userdata.get('GOOGLE_API_KEY')\n",
        "GEMINI_API_KEY=GOOGLE_API_KEY"
      ],
      "metadata": {
        "id": "svWFPIBWAOZq"
      },
      "execution_count": 54,
      "outputs": []
    },
    {
      "cell_type": "code",
      "source": [
        "# Gemini API setup\n",
        "def configure_gemini():\n",
        "    api_key = GEMINI_API_KEY\n",
        "    if not api_key:\n",
        "        raise ValueError(\"GEMINI_API_KEY environment variable not set.\")\n",
        "    genai.configure(api_key=api_key)\n",
        "    return genai.GenerativeModel('gemini-2.5-flash')"
      ],
      "metadata": {
        "id": "FAG58cwTAKPt"
      },
      "execution_count": 55,
      "outputs": []
    },
    {
      "cell_type": "code",
      "source": [
        "# Generate a question using Gemini\n",
        "def generate_question(model, technology: str, question_number: int) -> Tuple[str, str]:\n",
        "    prompt = f\"Generate a {technology} interview question (intermediate level) with a clear answer key. Format as JSON: {{'question': '...', 'answer_key': '...'}}\"\n",
        "    try:\n",
        "        response = model.generate_content(prompt)\n",
        "        result = json.loads(response.text.strip('```json\\n').strip('```'))\n",
        "        return result['question'], result['answer_key']\n",
        "    except Exception as e:\n",
        "        logger.error(f\"Error generating question: {e}\")\n",
        "        return f\"Explain a key concept in {technology}.\", f\"A clear explanation of a {technology} concept.\"\n"
      ],
      "metadata": {
        "id": "GElHGAkJAY7V"
      },
      "execution_count": 56,
      "outputs": []
    },
    {
      "cell_type": "code",
      "source": [
        "# Evaluate response using Gemini\n",
        "def evaluate_response(model, question: str, answer: str, answer_key: str) -> Tuple[int, str]:\n",
        "    prompt = f\"\"\"\n",
        "    Evaluate the following candidate response for correctness, clarity, and completeness on a scale of 0-100.\n",
        "    Question: {question}\n",
        "    Candidate Response: {answer}\n",
        "    Reference Answer: {answer_key}\n",
        "    Return JSON: {{'score': int, 'feedback': 'string'}}\n",
        "    \"\"\"\n",
        "    try:\n",
        "        response = model.generate_content(prompt)\n",
        "        result = json.loads(response.text.strip('```json\\n').strip('```'))\n",
        "        return result['score'], result['feedback']\n",
        "    except Exception as e:\n",
        "        logger.error(f\"Error evaluating response: {e}\")\n",
        "        return 50, f\"Evaluation failed: {str(e)}. Default score assigned.\""
      ],
      "metadata": {
        "id": "SjGhlC6CAcNe"
      },
      "execution_count": 57,
      "outputs": []
    },
    {
      "cell_type": "code",
      "source": [
        "# Store interview and response data\n",
        "def save_interview(candidate_id: str, config: dict) -> str:\n",
        "    interview_id = str(uuid.uuid4())\n",
        "    conn = sqlite3.connect('interview.db')\n",
        "    c = conn.cursor()\n",
        "    c.execute(\"INSERT INTO interviews (interview_id, candidate_id, config, start_time) VALUES (?, ?, ?, datetime('now'))\",\n",
        "              (interview_id, candidate_id, json.dumps(config)))\n",
        "    conn.commit()\n",
        "    conn.close()\n",
        "    return interview_id\n"
      ],
      "metadata": {
        "id": "q1C8ZWBkAfWg"
      },
      "execution_count": 58,
      "outputs": []
    },
    {
      "cell_type": "code",
      "source": [
        "def save_response(interview_id: str, question: str, answer: str, score: int, feedback: str):\n",
        "    response_id = str(uuid.uuid4())\n",
        "    conn = sqlite3.connect('interview.db')\n",
        "    c = conn.cursor()\n",
        "    c.execute(\"INSERT INTO responses (response_id, interview_id, question, answer, score, feedback) VALUES (?, ?, ?, ?, ?, ?)\",\n",
        "              (response_id, interview_id, question, answer, score, feedback))\n",
        "    conn.commit()\n",
        "    conn.close()"
      ],
      "metadata": {
        "id": "I8uoMqTABCuZ"
      },
      "execution_count": 59,
      "outputs": []
    },
    {
      "cell_type": "code",
      "source": [
        "# Get final score\n",
        "def get_final_score(interview_id: str) -> Tuple[float, List[InterviewResponse]]:\n",
        "    conn = sqlite3.connect('interview.db')\n",
        "    c = conn.cursor()\n",
        "    c.execute(\"SELECT question, answer, score, feedback FROM responses WHERE interview_id = ?\", (interview_id,))\n",
        "    responses = [InterviewResponse(question=row[0], answer=row[1], score=row[2], feedback=row[3]) for row in c.fetchall()]\n",
        "    conn.close()\n",
        "    if responses:\n",
        "        final_score = sum(r.score for r in responses) / len(responses)\n",
        "        return final_score, responses\n",
        "    return 0, []"
      ],
      "metadata": {
        "id": "mS3yvKmqBF-7"
      },
      "execution_count": 60,
      "outputs": []
    },
    {
      "cell_type": "code",
      "source": [
        "# Gradio interface logic\n",
        "def start_interview(num_questions: int, technology: str, candidate_id: str):\n",
        "    logger.debug(f\"Starting interview: num_questions={num_questions}, technology={technology}, candidate_id={candidate_id}\")\n",
        "    if num_questions < 1 or num_questions > 10:\n",
        "        return \"Number of questions must be between 1 and 10.\", [], \"\", None\n",
        "    if not candidate_id:\n",
        "        return \"Please provide a candidate ID.\", [], \"\", None\n",
        "\n",
        "    try:\n",
        "        # Configure Gemini\n",
        "        model = configure_gemini()\n",
        "\n",
        "        # Save interview configuration\n",
        "        config = {\"num_questions\": num_questions, \"technology\": technology}\n",
        "        interview_id = save_interview(candidate_id, config)\n",
        "\n",
        "        # Generate first question\n",
        "        question, answer_key = generate_question(model, technology, 1)\n",
        "        state = {\"interview_id\": interview_id, \"current_question\": 1, \"answer_key\": answer_key, \"model\": model, \"config\": config}\n",
        "        state_store[interview_id] = state  # Store state in memory\n",
        "        logger.debug(f\"Interview started: {interview_id}, first question: {question}\")\n",
        "        return question, [(question, None)], interview_id, state\n",
        "    except ValueError as e:\n",
        "        logger.error(f\"Error starting interview: {e}\")\n",
        "        return str(e), [], \"\", None"
      ],
      "metadata": {
        "id": "AbukvYuEBIOC"
      },
      "execution_count": 61,
      "outputs": []
    },
    {
      "cell_type": "code",
      "source": [
        "def submit_response(message: str, history: List[Tuple[str, str]], interview_id: str, state):\n",
        "    logger.debug(f\"Submitting response: message={message}, history={history}, interview_id={interview_id}, state={state}\")\n",
        "\n",
        "    # Retrieve state from store if not provided\n",
        "    if not state or not isinstance(state, dict):\n",
        "        logger.debug(f\"State missing or invalid, attempting to retrieve from store with interview_id: {interview_id}\")\n",
        "        state = state_store.get(interview_id)\n",
        "        if not state:\n",
        "            logger.error(f\"No state found for interview_id: {interview_id}\")\n",
        "            return \"Interview not started or session expired. Please start a new interview.\", history, interview_id, None\n",
        "\n",
        "    # Validate state contents\n",
        "    interview_id = state.get(\"interview_id\")\n",
        "    current_question = state.get(\"current_question\")\n",
        "    model = state.get(\"model\")\n",
        "    config = state.get(\"config\")\n",
        "    answer_key = state.get(\"answer_key\")\n",
        "\n",
        "    if not all([interview_id, current_question, model, config, answer_key]):\n",
        "        logger.error(f\"Invalid state contents: {state}\")\n",
        "        return \"Invalid interview state. Please start a new interview.\", history, interview_id, None\n",
        "\n",
        "    # Evaluate the response\n",
        "    score, feedback = evaluate_response(model, history[-1][0], message, answer_key)\n",
        "    save_response(interview_id, history[-1][0], message, score, feedback)\n",
        "\n",
        "    # Update history with the user's response\n",
        "    history[-1] = (history[-1][0], message)\n",
        "\n",
        "    # Check if more questions are needed\n",
        "    if current_question < config[\"num_questions\"]:\n",
        "        next_question, next_answer_key = generate_question(model, config[\"technology\"], current_question + 1)\n",
        "        state[\"current_question\"] = current_question + 1\n",
        "        state[\"answer_key\"] = next_answer_key\n",
        "        state_store[interview_id] = state  # Update state in store\n",
        "        history.append((next_question, None))\n",
        "        logger.debug(f\"Next question generated: {next_question}\")\n",
        "        return f\"Score for previous question: {score}. Feedback: {feedback}\", history, interview_id, state\n",
        "    else:\n",
        "        final_score, responses = get_final_score(interview_id)\n",
        "        feedback_summary = \"\\n\".join([f\"Q: {r.question}\\nA: {r.answer}\\nScore: {r.score}\\nFeedback: {r.feedback}\" for r in responses])\n",
        "        logger.debug(f\"Interview completed: final_score={final_score}\")\n",
        "        # Clear state from store after completion\n",
        "        state_store.pop(interview_id, None)\n",
        "        return f\"Interview completed! Final Score: {final_score:.2f}/100\\n\\nSummary:\\n{feedback_summary}\", history, \"\", None"
      ],
      "metadata": {
        "id": "O9pUJmA2BKww"
      },
      "execution_count": 62,
      "outputs": []
    },
    {
      "cell_type": "code",
      "source": [
        "# Initialize database\n",
        "init_db()"
      ],
      "metadata": {
        "id": "uTh_PDioBNyj"
      },
      "execution_count": 63,
      "outputs": []
    },
    {
      "cell_type": "code",
      "source": [
        "# Gradio interface\n",
        "with gr.Blocks() as demo:\n",
        "    gr.Markdown(\"## Robo-Advisor Interview System\")\n",
        "    candidate_id = gr.Textbox(label=\"Candidate ID\")\n",
        "    num_questions = gr.Slider(minimum=1, maximum=10, step=1, label=\"Number of Questions\", value=5)\n",
        "    technology = gr.Dropdown(choices=[\"Python\", \"Java\", \"DevOps\", \"JavaScript\"], label=\"Technology\", value=\"Python\")\n",
        "    interview_id = gr.Textbox(label=\"Interview ID\", visible=False)  # Hidden field for interview_id\n",
        "    start_btn = gr.Button(\"Start Interview\")\n",
        "    chatbot = gr.Chatbot(label=\"Interview Chat\")\n",
        "    msg = gr.Textbox(label=\"Your Answer\")\n",
        "    output = gr.Textbox(label=\"Feedback and Score\")\n",
        "\n",
        "    start_btn.click(\n",
        "        fn=start_interview,\n",
        "        inputs=[num_questions, technology, candidate_id],\n",
        "        outputs=[output, chatbot, interview_id, gr.State()]\n",
        "    )\n",
        "    msg.submit(\n",
        "        fn=submit_response,\n",
        "        inputs=[msg, chatbot, interview_id, gr.State()],\n",
        "        outputs=[output, chatbot, interview_id, gr.State()]\n",
        "    )"
      ],
      "metadata": {
        "id": "aqT1U6WqBQA7",
        "outputId": "8994abe9-c7a3-4af8-d808-5314c7a4996f",
        "colab": {
          "base_uri": "https://localhost:8080/"
        }
      },
      "execution_count": 64,
      "outputs": [
        {
          "output_type": "stream",
          "name": "stderr",
          "text": [
            "/tmp/ipython-input-64-1774420553.py:9: UserWarning: You have not specified a value for the `type` parameter. Defaulting to the 'tuples' format for chatbot messages, but this is deprecated and will be removed in a future version of Gradio. Please set type='messages' instead, which uses openai-style dictionaries with 'role' and 'content' keys.\n",
            "  chatbot = gr.Chatbot(label=\"Interview Chat\")\n"
          ]
        }
      ]
    },
    {
      "cell_type": "code",
      "source": [
        "demo.launch(debug=True)"
      ],
      "metadata": {
        "id": "SbTT9clgBTaV",
        "outputId": "b75c8a2e-654b-4aeb-fdd1-0d3f5415cfae",
        "colab": {
          "base_uri": "https://localhost:8080/",
          "height": 719
        }
      },
      "execution_count": 65,
      "outputs": [
        {
          "output_type": "stream",
          "name": "stdout",
          "text": [
            "It looks like you are running Gradio on a hosted a Jupyter notebook. For the Gradio app to work, sharing must be enabled. Automatically setting `share=True` (you can turn this off by setting `share=False` in `launch()` explicitly).\n",
            "\n",
            "Colab notebook detected. This cell will run indefinitely so that you can see errors and logs. To turn off, set debug=False in launch().\n",
            "* Running on public URL: https://06ac213bdefc0396e2.gradio.live\n",
            "\n",
            "This share link expires in 1 week. For free permanent hosting and GPU upgrades, run `gradio deploy` from the terminal in the working directory to deploy to Hugging Face Spaces (https://huggingface.co/spaces)\n"
          ]
        },
        {
          "output_type": "display_data",
          "data": {
            "text/plain": [
              "<IPython.core.display.HTML object>"
            ],
            "text/html": [
              "<div><iframe src=\"https://06ac213bdefc0396e2.gradio.live\" width=\"100%\" height=\"500\" allow=\"autoplay; camera; microphone; clipboard-read; clipboard-write;\" frameborder=\"0\" allowfullscreen></iframe></div>"
            ]
          },
          "metadata": {}
        },
        {
          "output_type": "stream",
          "name": "stderr",
          "text": [
            "ERROR:__main__:Error generating question: Invalid control character at: line 3 column 1858 (char 3168)\n",
            "ERROR:__main__:Error evaluating response: Expecting value: line 1 column 1 (char 0)\n"
          ]
        },
        {
          "output_type": "stream",
          "name": "stdout",
          "text": [
            "Keyboard interruption in main thread... closing server.\n",
            "Killing tunnel 127.0.0.1:7860 <> https://06ac213bdefc0396e2.gradio.live\n"
          ]
        },
        {
          "output_type": "execute_result",
          "data": {
            "text/plain": []
          },
          "metadata": {},
          "execution_count": 65
        }
      ]
    },
    {
      "cell_type": "code",
      "source": [],
      "metadata": {
        "id": "c_D5XMOsBY1n"
      },
      "execution_count": null,
      "outputs": []
    }
  ]
}